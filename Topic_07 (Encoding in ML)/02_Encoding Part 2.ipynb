{
 "cells": [
  {
   "cell_type": "markdown",
   "id": "88f91a9d",
   "metadata": {},
   "source": [
    "# <font color=\"maganta\"><h3 align=\"center\">Topic - Encoding Part 2</h3></font> "
   ]
  },
  {
   "cell_type": "markdown",
   "id": "314188e8",
   "metadata": {},
   "source": [
    "<h2 style = \"color:brown\" >Import Libraries</h2>"
   ]
  },
  {
   "cell_type": "code",
   "execution_count": 1,
   "id": "0546cb35",
   "metadata": {},
   "outputs": [],
   "source": [
    "import pandas as pd\n",
    "import numpy as np\n",
    "from sklearn.preprocessing import LabelEncoder, OneHotEncoder, OrdinalEncoder\n",
    "from pandas.core.dtypes.common import is_numeric_dtype\n",
    "from sklearn.compose import ColumnTransformer\n",
    "from termcolor import colored\n",
    "\n",
    "import warnings\n",
    "warnings.filterwarnings('ignore')"
   ]
  },
  {
   "cell_type": "markdown",
   "id": "47f35c2f",
   "metadata": {},
   "source": [
    "<h2 style = \"color:brown\" >Data Reading</h2>"
   ]
  },
  {
   "cell_type": "code",
   "execution_count": 2,
   "id": "5de930b3",
   "metadata": {},
   "outputs": [
    {
     "data": {
      "text/html": [
       "<div>\n",
       "<style scoped>\n",
       "    .dataframe tbody tr th:only-of-type {\n",
       "        vertical-align: middle;\n",
       "    }\n",
       "\n",
       "    .dataframe tbody tr th {\n",
       "        vertical-align: top;\n",
       "    }\n",
       "\n",
       "    .dataframe thead th {\n",
       "        text-align: right;\n",
       "    }\n",
       "</style>\n",
       "<table border=\"1\" class=\"dataframe\">\n",
       "  <thead>\n",
       "    <tr style=\"text-align: right;\">\n",
       "      <th></th>\n",
       "      <th>age</th>\n",
       "      <th>sex</th>\n",
       "      <th>bmi</th>\n",
       "      <th>children</th>\n",
       "      <th>smoker</th>\n",
       "      <th>region</th>\n",
       "      <th>charges</th>\n",
       "    </tr>\n",
       "  </thead>\n",
       "  <tbody>\n",
       "    <tr>\n",
       "      <th>0</th>\n",
       "      <td>19</td>\n",
       "      <td>female</td>\n",
       "      <td>27.900</td>\n",
       "      <td>0</td>\n",
       "      <td>yes</td>\n",
       "      <td>southwest</td>\n",
       "      <td>16884.92400</td>\n",
       "    </tr>\n",
       "    <tr>\n",
       "      <th>1</th>\n",
       "      <td>18</td>\n",
       "      <td>male</td>\n",
       "      <td>33.770</td>\n",
       "      <td>1</td>\n",
       "      <td>no</td>\n",
       "      <td>southeast</td>\n",
       "      <td>1725.55230</td>\n",
       "    </tr>\n",
       "    <tr>\n",
       "      <th>2</th>\n",
       "      <td>28</td>\n",
       "      <td>male</td>\n",
       "      <td>33.000</td>\n",
       "      <td>3</td>\n",
       "      <td>no</td>\n",
       "      <td>southeast</td>\n",
       "      <td>4449.46200</td>\n",
       "    </tr>\n",
       "    <tr>\n",
       "      <th>3</th>\n",
       "      <td>33</td>\n",
       "      <td>male</td>\n",
       "      <td>22.705</td>\n",
       "      <td>0</td>\n",
       "      <td>no</td>\n",
       "      <td>northwest</td>\n",
       "      <td>21984.47061</td>\n",
       "    </tr>\n",
       "    <tr>\n",
       "      <th>4</th>\n",
       "      <td>32</td>\n",
       "      <td>male</td>\n",
       "      <td>28.880</td>\n",
       "      <td>0</td>\n",
       "      <td>no</td>\n",
       "      <td>northwest</td>\n",
       "      <td>3866.85520</td>\n",
       "    </tr>\n",
       "  </tbody>\n",
       "</table>\n",
       "</div>"
      ],
      "text/plain": [
       "   age     sex     bmi  children smoker     region      charges\n",
       "0   19  female  27.900         0    yes  southwest  16884.92400\n",
       "1   18    male  33.770         1     no  southeast   1725.55230\n",
       "2   28    male  33.000         3     no  southeast   4449.46200\n",
       "3   33    male  22.705         0     no  northwest  21984.47061\n",
       "4   32    male  28.880         0     no  northwest   3866.85520"
      ]
     },
     "execution_count": 2,
     "metadata": {},
     "output_type": "execute_result"
    }
   ],
   "source": [
    "df = pd.read_csv('insurance.csv')\n",
    "df.head()"
   ]
  },
  {
   "cell_type": "code",
   "execution_count": 3,
   "id": "c03f5cfc",
   "metadata": {},
   "outputs": [
    {
     "name": "stdout",
     "output_type": "stream",
     "text": [
      "<class 'pandas.core.frame.DataFrame'>\n",
      "RangeIndex: 1338 entries, 0 to 1337\n",
      "Data columns (total 7 columns):\n",
      " #   Column    Non-Null Count  Dtype  \n",
      "---  ------    --------------  -----  \n",
      " 0   age       1338 non-null   int64  \n",
      " 1   sex       1338 non-null   object \n",
      " 2   bmi       1338 non-null   float64\n",
      " 3   children  1338 non-null   int64  \n",
      " 4   smoker    1338 non-null   object \n",
      " 5   region    1338 non-null   object \n",
      " 6   charges   1338 non-null   float64\n",
      "dtypes: float64(2), int64(2), object(3)\n",
      "memory usage: 73.3+ KB\n"
     ]
    }
   ],
   "source": [
    "df.info()"
   ]
  },
  {
   "cell_type": "code",
   "execution_count": 4,
   "id": "2ec3b788",
   "metadata": {},
   "outputs": [
    {
     "data": {
      "text/plain": [
       "array(['yes', 'no'], dtype=object)"
      ]
     },
     "execution_count": 4,
     "metadata": {},
     "output_type": "execute_result"
    }
   ],
   "source": [
    "df.smoker.unique()"
   ]
  },
  {
   "cell_type": "code",
   "execution_count": 5,
   "id": "b22b2a0d",
   "metadata": {},
   "outputs": [
    {
     "data": {
      "text/plain": [
       "array(['southwest', 'southeast', 'northwest', 'northeast'], dtype=object)"
      ]
     },
     "execution_count": 5,
     "metadata": {},
     "output_type": "execute_result"
    }
   ],
   "source": [
    "df.region.unique()"
   ]
  },
  {
   "cell_type": "code",
   "execution_count": 6,
   "id": "06792469",
   "metadata": {},
   "outputs": [
    {
     "data": {
      "text/plain": [
       "array(['female', 'male'], dtype=object)"
      ]
     },
     "execution_count": 6,
     "metadata": {},
     "output_type": "execute_result"
    }
   ],
   "source": [
    "df.sex.unique()"
   ]
  },
  {
   "cell_type": "code",
   "execution_count": 7,
   "id": "53d22dc1",
   "metadata": {},
   "outputs": [
    {
     "data": {
      "text/plain": [
       "age         0\n",
       "sex         0\n",
       "bmi         0\n",
       "children    0\n",
       "smoker      0\n",
       "region      0\n",
       "charges     0\n",
       "dtype: int64"
      ]
     },
     "execution_count": 7,
     "metadata": {},
     "output_type": "execute_result"
    }
   ],
   "source": [
    "df.isnull().sum()"
   ]
  },
  {
   "cell_type": "markdown",
   "id": "3999e61d",
   "metadata": {},
   "source": [
    "<h2 style = \"color:brown\" >Encoding Techniques in ML</h2>"
   ]
  },
  {
   "cell_type": "markdown",
   "id": "b8df9189",
   "metadata": {},
   "source": [
    "1. Label Encoder \n",
    "2. One Hot Encoder  \n",
    "3. Ordinal Encoder"
   ]
  },
  {
   "cell_type": "markdown",
   "id": "7769af00",
   "metadata": {},
   "source": [
    "<h1 style = \"color:green\">1. Label Encoder</h1>"
   ]
  },
  {
   "cell_type": "code",
   "execution_count": 8,
   "id": "8c45a48c",
   "metadata": {},
   "outputs": [],
   "source": [
    "from sklearn.preprocessing import LabelEncoder\n",
    "enc = LabelEncoder()"
   ]
  },
  {
   "cell_type": "markdown",
   "id": "f0c92fb8",
   "metadata": {},
   "source": [
    "<h3 style = \"color:purple\">1.1 Using fundamental approach</h3>"
   ]
  },
  {
   "cell_type": "code",
   "execution_count": 9,
   "id": "9729e2f4",
   "metadata": {
    "scrolled": true
   },
   "outputs": [
    {
     "name": "stdout",
     "output_type": "stream",
     "text": [
      "\u001b[2m\u001b[1m\u001b[34mLabel Encoded DataFrame Using fundamental approach:\n",
      "\u001b[0m\n",
      "\u001b[93m   age  sex     bmi  children  smoker  region      charges\n",
      "0   19    0  27.900         0       1       3  16884.92400\n",
      "1   18    1  33.770         1       0       2   1725.55230\n",
      "2   28    1  33.000         3       0       2   4449.46200\n",
      "3   33    1  22.705         0       0       1  21984.47061\n",
      "4   32    1  28.880         0       0       1   3866.85520\u001b[0m\n"
     ]
    }
   ],
   "source": [
    "df1 = df.copy()\n",
    "\n",
    "df1.sex = enc.fit_transform(df1[['sex']])\n",
    "df1.smoker = enc.fit_transform(df1[['smoker']])\n",
    "df1.region = enc.fit_transform(df1[['region']])\n",
    "\n",
    "print(colored('Label Encoded DataFrame Using fundamental approach:\\n',color='blue',attrs = ['bold','dark']))\n",
    "print(colored(df1.head(),color= 'light_yellow'))"
   ]
  },
  {
   "cell_type": "markdown",
   "id": "00c7d03c",
   "metadata": {},
   "source": [
    "<h3 style = \"color:purple\">1.2 Using 'for loop'</h3>"
   ]
  },
  {
   "cell_type": "code",
   "execution_count": 10,
   "id": "7c1ae21c",
   "metadata": {},
   "outputs": [
    {
     "name": "stdout",
     "output_type": "stream",
     "text": [
      "\u001b[2m\u001b[1m\u001b[34mLabel Encoded DataFrame Using 'for loop':\n",
      "\u001b[0m\n",
      "\u001b[93m   age  sex     bmi  children  smoker  region      charges\n",
      "0   19    0  27.900         0       1       3  16884.92400\n",
      "1   18    1  33.770         1       0       2   1725.55230\n",
      "2   28    1  33.000         3       0       2   4449.46200\n",
      "3   33    1  22.705         0       0       1  21984.47061\n",
      "4   32    1  28.880         0       0       1   3866.85520\u001b[0m\n"
     ]
    }
   ],
   "source": [
    "df2 = df.copy()\n",
    "columns_to_encode = ['sex','smoker','region']\n",
    "\n",
    "for col in columns_to_encode:\n",
    "    df2[col] = enc.fit_transform(df2[[col]])\n",
    "    \n",
    "print(colored(f\"Label Encoded DataFrame Using 'for loop':\\n\",color='blue',attrs = ['bold','dark']))\n",
    "print(colored(df2.head(),color= 'light_yellow'))"
   ]
  },
  {
   "cell_type": "markdown",
   "id": "ff12927c",
   "metadata": {},
   "source": [
    "<h3 style = \"color:purple\">1.2(b) Using 'for loop' with (is_numeric_dtype)</h3>"
   ]
  },
  {
   "cell_type": "code",
   "execution_count": 11,
   "id": "ffe6d610",
   "metadata": {},
   "outputs": [
    {
     "name": "stdout",
     "output_type": "stream",
     "text": [
      "\u001b[95m   age  sex     bmi  children  smoker  region      charges\n",
      "0   19    0  27.900         0       1       3  16884.92400\n",
      "1   18    1  33.770         1       0       2   1725.55230\n",
      "2   28    1  33.000         3       0       2   4449.46200\n",
      "3   33    1  22.705         0       0       1  21984.47061\n",
      "4   32    1  28.880         0       0       1   3866.85520\u001b[0m\n"
     ]
    }
   ],
   "source": [
    "from pandas.core.dtypes.common import is_numeric_dtype\n",
    "\n",
    "d2 = df.copy()\n",
    "\n",
    "for col in d2.columns:\n",
    "    if is_numeric_dtype(d2[col]):\n",
    "        continue\n",
    "    else:\n",
    "        d2[col] = enc.fit_transform(d2[col])\n",
    "        \n",
    "print(colored(d2.head(),color = 'light_magenta'))"
   ]
  },
  {
   "cell_type": "markdown",
   "id": "ca1defae",
   "metadata": {},
   "source": [
    "<h3 style = \"color:purple\">1.3 Using lambda function</h3>"
   ]
  },
  {
   "cell_type": "code",
   "execution_count": 12,
   "id": "55b86c16",
   "metadata": {},
   "outputs": [
    {
     "name": "stdout",
     "output_type": "stream",
     "text": [
      "\u001b[2m\u001b[1m\u001b[34mLabel Encoded DataFrame Using 'Lambda function':\n",
      "\u001b[0m\n",
      "\u001b[93m   age  sex     bmi  children  smoker  region      charges\n",
      "0   19    0  27.900         0       1       3  16884.92400\n",
      "1   18    1  33.770         1       0       2   1725.55230\n",
      "2   28    1  33.000         3       0       2   4449.46200\n",
      "3   33    1  22.705         0       0       1  21984.47061\n",
      "4   32    1  28.880         0       0       1   3866.85520\u001b[0m\n"
     ]
    }
   ],
   "source": [
    "df3 = df.copy()\n",
    "columns_to_encode = ['sex','smoker','region']\n",
    "\n",
    "df3[columns_to_encode] = df3[columns_to_encode].apply(lambda x: enc.fit_transform(x))\n",
    "\n",
    "print(colored(f\"Label Encoded DataFrame Using 'Lambda function':\\n\",color='blue',attrs = ['bold','dark']))\n",
    "print(colored(df3.head(),color= 'light_yellow'))"
   ]
  },
  {
   "cell_type": "markdown",
   "id": "00f03a4e",
   "metadata": {},
   "source": [
    "<h3 style = \"color:purple\">1.3(b) Using lambda function with (is_numeric_dtype)</h3>"
   ]
  },
  {
   "cell_type": "code",
   "execution_count": 13,
   "id": "103d3941",
   "metadata": {},
   "outputs": [
    {
     "name": "stdout",
     "output_type": "stream",
     "text": [
      "\u001b[95m   age  sex     bmi  children  smoker  region      charges\n",
      "0   19    0  27.900         0       1       3  16884.92400\n",
      "1   18    1  33.770         1       0       2   1725.55230\n",
      "2   28    1  33.000         3       0       2   4449.46200\n",
      "3   33    1  22.705         0       0       1  21984.47061\n",
      "4   32    1  28.880         0       0       1   3866.85520\u001b[0m\n"
     ]
    }
   ],
   "source": [
    "d3 = df.copy()\n",
    "\n",
    "for col in d3.columns:\n",
    "    if is_numeric_dtype(d3[col]):\n",
    "        continue\n",
    "    else:\n",
    "        d3[col] = d3[[col]].apply(lambda x: enc.fit_transform(x))\n",
    "        #lambda function works into dataframe not a array\n",
    "        #if we use d3[col].apply, it doesn't work\n",
    "\n",
    "\n",
    "print(colored(d3.head(),color= 'light_magenta'))"
   ]
  },
  {
   "cell_type": "markdown",
   "id": "f3a3e0b1",
   "metadata": {},
   "source": [
    "<h3 style = \"color:purple\">1.4 Label Encoding by Label Mapping</h3>"
   ]
  },
  {
   "cell_type": "code",
   "execution_count": 14,
   "id": "8c14998e",
   "metadata": {},
   "outputs": [
    {
     "name": "stdout",
     "output_type": "stream",
     "text": [
      "\u001b[1m\u001b[34mLabel Encoded DataFrame using 'Map function':\n",
      "\u001b[0m\n",
      "\u001b[93m   age  sex     bmi  children  smoker  region      charges\n",
      "0   19    1  27.900         0       0       1  16884.92400\n",
      "1   18    4  33.770         1       1       2   1725.55230\n",
      "2   28    4  33.000         3       1       2   4449.46200\n",
      "3   33    4  22.705         0       1       3  21984.47061\n",
      "4   32    4  28.880         0       1       3   3866.85520\u001b[0m\n",
      "\u001b[1m\u001b[34m\n",
      "Label Encoded DataFrame using 'Replace method':\n",
      "\u001b[0m\n",
      "\u001b[91m   age  sex     bmi  children  smoker  region      charges\n",
      "0   19    1  27.900         0       0       1  16884.92400\n",
      "1   18    4  33.770         1       1       2   1725.55230\n",
      "2   28    4  33.000         3       1       2   4449.46200\n",
      "3   33    4  22.705         0       1       3  21984.47061\n",
      "4   32    4  28.880         0       1       3   3866.85520\u001b[0m\n",
      "\u001b[1m\u001b[34m\n",
      "Label Encoded DataFrame using 'list comprehension':\n",
      "\u001b[0m\n",
      "\u001b[93m   age  sex     bmi  children  smoker  region      charges\n",
      "0   19    1  27.900         0       0       1  16884.92400\n",
      "1   18    4  33.770         1       1       2   1725.55230\n",
      "2   28    4  33.000         3       1       2   4449.46200\n",
      "3   33    4  22.705         0       1       3  21984.47061\n",
      "4   32    4  28.880         0       1       3   3866.85520\u001b[0m\n"
     ]
    }
   ],
   "source": [
    "df_mapping = df.copy()\n",
    "df_replace = df.copy()\n",
    "df_comprehension = df.copy()\n",
    "\n",
    "label_mapping = {\n",
    "    'sex': {'female':1, 'male':4},\n",
    "    'smoker': {'yes':0, 'no':1},\n",
    "    'region': {'southwest':1, 'southeast':2, 'northwest':3, 'northeast':4}\n",
    "}\n",
    "\n",
    "columns_to_encode = ['sex','smoker','region']\n",
    "\n",
    "#using map function:\n",
    "for col in columns_to_encode:\n",
    "    df_mapping[col] = df_mapping[col].map(label_mapping[col])\n",
    "    \n",
    "#using replace method:\n",
    "for col in columns_to_encode:\n",
    "    df_replace[col] = df_replace[col].replace(label_mapping[col])\n",
    "    \n",
    "#using list comprehension:\n",
    "for col in columns_to_encode:\n",
    "    df_comprehension[col] = [label_mapping[col][x] for x in df_comprehension[col]]\n",
    "    \n",
    "\n",
    "print(colored(F\"Label Encoded DataFrame using 'Map function':\\n\", color= 'blue', attrs= ['bold']))\n",
    "print(colored(df_mapping.head(),color= 'light_yellow'))\n",
    "print(colored(F\"\\nLabel Encoded DataFrame using 'Replace method':\\n\", color= 'blue', attrs= ['bold']))\n",
    "print(colored(df_replace.head(),color = 'light_red'))\n",
    "print(colored(F\"\\nLabel Encoded DataFrame using 'list comprehension':\\n\", color= 'blue', attrs= ['bold']))\n",
    "print(colored(df_comprehension.head(), color = 'light_yellow'))"
   ]
  },
  {
   "cell_type": "markdown",
   "id": "4a9293de",
   "metadata": {},
   "source": [
    "<h1 style = \"color:green\">2. One Hot Encoder</h1>"
   ]
  },
  {
   "cell_type": "markdown",
   "id": "796ab9cf",
   "metadata": {},
   "source": [
    "<h3 style = \"color:indigo\">2.1 Using dummy variables</h3>"
   ]
  },
  {
   "cell_type": "code",
   "execution_count": 16,
   "id": "2120eed1",
   "metadata": {},
   "outputs": [],
   "source": [
    "df4 = df.copy()\n",
    "columns_to_encode = ['sex','smoker','region']\n",
    "\n",
    "#creating dummy variables\n",
    "dummy = pd.get_dummies(df4[['sex','smoker','region']])\n",
    "#dummy = pd.get_dummies(df4[['sex','smoker','region']], columns = columns_to_encode, prefix = columns_to_encode)\n",
    "\n",
    "#concatenate dummy variable with main df\n",
    "encoded_df4 = pd.concat([df4.drop(['sex','smoker','region'],axis=1),dummy], axis=1)"
   ]
  },
  {
   "cell_type": "code",
   "execution_count": 17,
   "id": "a706bb9e",
   "metadata": {},
   "outputs": [
    {
     "data": {
      "text/html": [
       "<div>\n",
       "<style scoped>\n",
       "    .dataframe tbody tr th:only-of-type {\n",
       "        vertical-align: middle;\n",
       "    }\n",
       "\n",
       "    .dataframe tbody tr th {\n",
       "        vertical-align: top;\n",
       "    }\n",
       "\n",
       "    .dataframe thead th {\n",
       "        text-align: right;\n",
       "    }\n",
       "</style>\n",
       "<table border=\"1\" class=\"dataframe\">\n",
       "  <thead>\n",
       "    <tr style=\"text-align: right;\">\n",
       "      <th></th>\n",
       "      <th>sex_female</th>\n",
       "      <th>sex_male</th>\n",
       "      <th>smoker_no</th>\n",
       "      <th>smoker_yes</th>\n",
       "      <th>region_northeast</th>\n",
       "      <th>region_northwest</th>\n",
       "      <th>region_southeast</th>\n",
       "      <th>region_southwest</th>\n",
       "    </tr>\n",
       "  </thead>\n",
       "  <tbody>\n",
       "    <tr>\n",
       "      <th>0</th>\n",
       "      <td>1</td>\n",
       "      <td>0</td>\n",
       "      <td>0</td>\n",
       "      <td>1</td>\n",
       "      <td>0</td>\n",
       "      <td>0</td>\n",
       "      <td>0</td>\n",
       "      <td>1</td>\n",
       "    </tr>\n",
       "    <tr>\n",
       "      <th>1</th>\n",
       "      <td>0</td>\n",
       "      <td>1</td>\n",
       "      <td>1</td>\n",
       "      <td>0</td>\n",
       "      <td>0</td>\n",
       "      <td>0</td>\n",
       "      <td>1</td>\n",
       "      <td>0</td>\n",
       "    </tr>\n",
       "    <tr>\n",
       "      <th>2</th>\n",
       "      <td>0</td>\n",
       "      <td>1</td>\n",
       "      <td>1</td>\n",
       "      <td>0</td>\n",
       "      <td>0</td>\n",
       "      <td>0</td>\n",
       "      <td>1</td>\n",
       "      <td>0</td>\n",
       "    </tr>\n",
       "    <tr>\n",
       "      <th>3</th>\n",
       "      <td>0</td>\n",
       "      <td>1</td>\n",
       "      <td>1</td>\n",
       "      <td>0</td>\n",
       "      <td>0</td>\n",
       "      <td>1</td>\n",
       "      <td>0</td>\n",
       "      <td>0</td>\n",
       "    </tr>\n",
       "    <tr>\n",
       "      <th>4</th>\n",
       "      <td>0</td>\n",
       "      <td>1</td>\n",
       "      <td>1</td>\n",
       "      <td>0</td>\n",
       "      <td>0</td>\n",
       "      <td>1</td>\n",
       "      <td>0</td>\n",
       "      <td>0</td>\n",
       "    </tr>\n",
       "  </tbody>\n",
       "</table>\n",
       "</div>"
      ],
      "text/plain": [
       "   sex_female  sex_male  smoker_no  smoker_yes  region_northeast  \\\n",
       "0           1         0          0           1                 0   \n",
       "1           0         1          1           0                 0   \n",
       "2           0         1          1           0                 0   \n",
       "3           0         1          1           0                 0   \n",
       "4           0         1          1           0                 0   \n",
       "\n",
       "   region_northwest  region_southeast  region_southwest  \n",
       "0                 0                 0                 1  \n",
       "1                 0                 1                 0  \n",
       "2                 0                 1                 0  \n",
       "3                 1                 0                 0  \n",
       "4                 1                 0                 0  "
      ]
     },
     "execution_count": 17,
     "metadata": {},
     "output_type": "execute_result"
    }
   ],
   "source": [
    "dummy.head()"
   ]
  },
  {
   "cell_type": "code",
   "execution_count": 18,
   "id": "d9b95971",
   "metadata": {},
   "outputs": [
    {
     "data": {
      "text/html": [
       "<div>\n",
       "<style scoped>\n",
       "    .dataframe tbody tr th:only-of-type {\n",
       "        vertical-align: middle;\n",
       "    }\n",
       "\n",
       "    .dataframe tbody tr th {\n",
       "        vertical-align: top;\n",
       "    }\n",
       "\n",
       "    .dataframe thead th {\n",
       "        text-align: right;\n",
       "    }\n",
       "</style>\n",
       "<table border=\"1\" class=\"dataframe\">\n",
       "  <thead>\n",
       "    <tr style=\"text-align: right;\">\n",
       "      <th></th>\n",
       "      <th>age</th>\n",
       "      <th>bmi</th>\n",
       "      <th>children</th>\n",
       "      <th>charges</th>\n",
       "      <th>sex_female</th>\n",
       "      <th>sex_male</th>\n",
       "      <th>smoker_no</th>\n",
       "      <th>smoker_yes</th>\n",
       "      <th>region_northeast</th>\n",
       "      <th>region_northwest</th>\n",
       "      <th>region_southeast</th>\n",
       "      <th>region_southwest</th>\n",
       "    </tr>\n",
       "  </thead>\n",
       "  <tbody>\n",
       "    <tr>\n",
       "      <th>0</th>\n",
       "      <td>19</td>\n",
       "      <td>27.900</td>\n",
       "      <td>0</td>\n",
       "      <td>16884.92400</td>\n",
       "      <td>1</td>\n",
       "      <td>0</td>\n",
       "      <td>0</td>\n",
       "      <td>1</td>\n",
       "      <td>0</td>\n",
       "      <td>0</td>\n",
       "      <td>0</td>\n",
       "      <td>1</td>\n",
       "    </tr>\n",
       "    <tr>\n",
       "      <th>1</th>\n",
       "      <td>18</td>\n",
       "      <td>33.770</td>\n",
       "      <td>1</td>\n",
       "      <td>1725.55230</td>\n",
       "      <td>0</td>\n",
       "      <td>1</td>\n",
       "      <td>1</td>\n",
       "      <td>0</td>\n",
       "      <td>0</td>\n",
       "      <td>0</td>\n",
       "      <td>1</td>\n",
       "      <td>0</td>\n",
       "    </tr>\n",
       "    <tr>\n",
       "      <th>2</th>\n",
       "      <td>28</td>\n",
       "      <td>33.000</td>\n",
       "      <td>3</td>\n",
       "      <td>4449.46200</td>\n",
       "      <td>0</td>\n",
       "      <td>1</td>\n",
       "      <td>1</td>\n",
       "      <td>0</td>\n",
       "      <td>0</td>\n",
       "      <td>0</td>\n",
       "      <td>1</td>\n",
       "      <td>0</td>\n",
       "    </tr>\n",
       "    <tr>\n",
       "      <th>3</th>\n",
       "      <td>33</td>\n",
       "      <td>22.705</td>\n",
       "      <td>0</td>\n",
       "      <td>21984.47061</td>\n",
       "      <td>0</td>\n",
       "      <td>1</td>\n",
       "      <td>1</td>\n",
       "      <td>0</td>\n",
       "      <td>0</td>\n",
       "      <td>1</td>\n",
       "      <td>0</td>\n",
       "      <td>0</td>\n",
       "    </tr>\n",
       "    <tr>\n",
       "      <th>4</th>\n",
       "      <td>32</td>\n",
       "      <td>28.880</td>\n",
       "      <td>0</td>\n",
       "      <td>3866.85520</td>\n",
       "      <td>0</td>\n",
       "      <td>1</td>\n",
       "      <td>1</td>\n",
       "      <td>0</td>\n",
       "      <td>0</td>\n",
       "      <td>1</td>\n",
       "      <td>0</td>\n",
       "      <td>0</td>\n",
       "    </tr>\n",
       "  </tbody>\n",
       "</table>\n",
       "</div>"
      ],
      "text/plain": [
       "   age     bmi  children      charges  sex_female  sex_male  smoker_no  \\\n",
       "0   19  27.900         0  16884.92400           1         0          0   \n",
       "1   18  33.770         1   1725.55230           0         1          1   \n",
       "2   28  33.000         3   4449.46200           0         1          1   \n",
       "3   33  22.705         0  21984.47061           0         1          1   \n",
       "4   32  28.880         0   3866.85520           0         1          1   \n",
       "\n",
       "   smoker_yes  region_northeast  region_northwest  region_southeast  \\\n",
       "0           1                 0                 0                 0   \n",
       "1           0                 0                 0                 1   \n",
       "2           0                 0                 0                 1   \n",
       "3           0                 0                 1                 0   \n",
       "4           0                 0                 1                 0   \n",
       "\n",
       "   region_southwest  \n",
       "0                 1  \n",
       "1                 0  \n",
       "2                 0  \n",
       "3                 0  \n",
       "4                 0  "
      ]
     },
     "execution_count": 18,
     "metadata": {},
     "output_type": "execute_result"
    }
   ],
   "source": [
    "encoded_df4.head()"
   ]
  },
  {
   "cell_type": "markdown",
   "id": "bfb70deb",
   "metadata": {},
   "source": [
    "<h3 style = \"color:indigo\">2nd Way: Easiest way</h3>"
   ]
  },
  {
   "cell_type": "code",
   "execution_count": 19,
   "id": "2630d39c",
   "metadata": {},
   "outputs": [
    {
     "data": {
      "text/html": [
       "<div>\n",
       "<style scoped>\n",
       "    .dataframe tbody tr th:only-of-type {\n",
       "        vertical-align: middle;\n",
       "    }\n",
       "\n",
       "    .dataframe tbody tr th {\n",
       "        vertical-align: top;\n",
       "    }\n",
       "\n",
       "    .dataframe thead th {\n",
       "        text-align: right;\n",
       "    }\n",
       "</style>\n",
       "<table border=\"1\" class=\"dataframe\">\n",
       "  <thead>\n",
       "    <tr style=\"text-align: right;\">\n",
       "      <th></th>\n",
       "      <th>age</th>\n",
       "      <th>bmi</th>\n",
       "      <th>children</th>\n",
       "      <th>charges</th>\n",
       "      <th>sex_female</th>\n",
       "      <th>sex_male</th>\n",
       "      <th>smoker_no</th>\n",
       "      <th>smoker_yes</th>\n",
       "      <th>region_northeast</th>\n",
       "      <th>region_northwest</th>\n",
       "      <th>region_southeast</th>\n",
       "      <th>region_southwest</th>\n",
       "    </tr>\n",
       "  </thead>\n",
       "  <tbody>\n",
       "    <tr>\n",
       "      <th>0</th>\n",
       "      <td>19</td>\n",
       "      <td>27.900</td>\n",
       "      <td>0</td>\n",
       "      <td>16884.92400</td>\n",
       "      <td>1</td>\n",
       "      <td>0</td>\n",
       "      <td>0</td>\n",
       "      <td>1</td>\n",
       "      <td>0</td>\n",
       "      <td>0</td>\n",
       "      <td>0</td>\n",
       "      <td>1</td>\n",
       "    </tr>\n",
       "    <tr>\n",
       "      <th>1</th>\n",
       "      <td>18</td>\n",
       "      <td>33.770</td>\n",
       "      <td>1</td>\n",
       "      <td>1725.55230</td>\n",
       "      <td>0</td>\n",
       "      <td>1</td>\n",
       "      <td>1</td>\n",
       "      <td>0</td>\n",
       "      <td>0</td>\n",
       "      <td>0</td>\n",
       "      <td>1</td>\n",
       "      <td>0</td>\n",
       "    </tr>\n",
       "    <tr>\n",
       "      <th>2</th>\n",
       "      <td>28</td>\n",
       "      <td>33.000</td>\n",
       "      <td>3</td>\n",
       "      <td>4449.46200</td>\n",
       "      <td>0</td>\n",
       "      <td>1</td>\n",
       "      <td>1</td>\n",
       "      <td>0</td>\n",
       "      <td>0</td>\n",
       "      <td>0</td>\n",
       "      <td>1</td>\n",
       "      <td>0</td>\n",
       "    </tr>\n",
       "    <tr>\n",
       "      <th>3</th>\n",
       "      <td>33</td>\n",
       "      <td>22.705</td>\n",
       "      <td>0</td>\n",
       "      <td>21984.47061</td>\n",
       "      <td>0</td>\n",
       "      <td>1</td>\n",
       "      <td>1</td>\n",
       "      <td>0</td>\n",
       "      <td>0</td>\n",
       "      <td>1</td>\n",
       "      <td>0</td>\n",
       "      <td>0</td>\n",
       "    </tr>\n",
       "    <tr>\n",
       "      <th>4</th>\n",
       "      <td>32</td>\n",
       "      <td>28.880</td>\n",
       "      <td>0</td>\n",
       "      <td>3866.85520</td>\n",
       "      <td>0</td>\n",
       "      <td>1</td>\n",
       "      <td>1</td>\n",
       "      <td>0</td>\n",
       "      <td>0</td>\n",
       "      <td>1</td>\n",
       "      <td>0</td>\n",
       "      <td>0</td>\n",
       "    </tr>\n",
       "  </tbody>\n",
       "</table>\n",
       "</div>"
      ],
      "text/plain": [
       "   age     bmi  children      charges  sex_female  sex_male  smoker_no  \\\n",
       "0   19  27.900         0  16884.92400           1         0          0   \n",
       "1   18  33.770         1   1725.55230           0         1          1   \n",
       "2   28  33.000         3   4449.46200           0         1          1   \n",
       "3   33  22.705         0  21984.47061           0         1          1   \n",
       "4   32  28.880         0   3866.85520           0         1          1   \n",
       "\n",
       "   smoker_yes  region_northeast  region_northwest  region_southeast  \\\n",
       "0           1                 0                 0                 0   \n",
       "1           0                 0                 0                 1   \n",
       "2           0                 0                 0                 1   \n",
       "3           0                 0                 1                 0   \n",
       "4           0                 0                 1                 0   \n",
       "\n",
       "   region_southwest  \n",
       "0                 1  \n",
       "1                 0  \n",
       "2                 0  \n",
       "3                 0  \n",
       "4                 0  "
      ]
     },
     "execution_count": 19,
     "metadata": {},
     "output_type": "execute_result"
    }
   ],
   "source": [
    "df_dummy = pd.get_dummies(df)\n",
    "df_dummy.head()"
   ]
  },
  {
   "cell_type": "markdown",
   "id": "bd01bbd0",
   "metadata": {},
   "source": [
    "<h3 style = \"color:indigo\">2.2 Using OneHotEncoder() with 'For loop'</h3>"
   ]
  },
  {
   "cell_type": "code",
   "execution_count": 15,
   "id": "1125fe3e",
   "metadata": {},
   "outputs": [],
   "source": [
    "from sklearn.preprocessing import OneHotEncoder\n",
    "enc2 = OneHotEncoder()"
   ]
  },
  {
   "cell_type": "code",
   "execution_count": 20,
   "id": "02124b4c",
   "metadata": {},
   "outputs": [
    {
     "data": {
      "text/html": [
       "<div>\n",
       "<style scoped>\n",
       "    .dataframe tbody tr th:only-of-type {\n",
       "        vertical-align: middle;\n",
       "    }\n",
       "\n",
       "    .dataframe tbody tr th {\n",
       "        vertical-align: top;\n",
       "    }\n",
       "\n",
       "    .dataframe thead th {\n",
       "        text-align: right;\n",
       "    }\n",
       "</style>\n",
       "<table border=\"1\" class=\"dataframe\">\n",
       "  <thead>\n",
       "    <tr style=\"text-align: right;\">\n",
       "      <th></th>\n",
       "      <th>age</th>\n",
       "      <th>bmi</th>\n",
       "      <th>children</th>\n",
       "      <th>charges</th>\n",
       "      <th>sex_female</th>\n",
       "      <th>sex_male</th>\n",
       "      <th>smoker_no</th>\n",
       "      <th>smoker_yes</th>\n",
       "      <th>region_northeast</th>\n",
       "      <th>region_northwest</th>\n",
       "      <th>region_southeast</th>\n",
       "      <th>region_southwest</th>\n",
       "    </tr>\n",
       "  </thead>\n",
       "  <tbody>\n",
       "    <tr>\n",
       "      <th>0</th>\n",
       "      <td>19</td>\n",
       "      <td>27.900</td>\n",
       "      <td>0</td>\n",
       "      <td>16884.92400</td>\n",
       "      <td>1.0</td>\n",
       "      <td>0.0</td>\n",
       "      <td>0.0</td>\n",
       "      <td>1.0</td>\n",
       "      <td>0.0</td>\n",
       "      <td>0.0</td>\n",
       "      <td>0.0</td>\n",
       "      <td>1.0</td>\n",
       "    </tr>\n",
       "    <tr>\n",
       "      <th>1</th>\n",
       "      <td>18</td>\n",
       "      <td>33.770</td>\n",
       "      <td>1</td>\n",
       "      <td>1725.55230</td>\n",
       "      <td>0.0</td>\n",
       "      <td>1.0</td>\n",
       "      <td>1.0</td>\n",
       "      <td>0.0</td>\n",
       "      <td>0.0</td>\n",
       "      <td>0.0</td>\n",
       "      <td>1.0</td>\n",
       "      <td>0.0</td>\n",
       "    </tr>\n",
       "    <tr>\n",
       "      <th>2</th>\n",
       "      <td>28</td>\n",
       "      <td>33.000</td>\n",
       "      <td>3</td>\n",
       "      <td>4449.46200</td>\n",
       "      <td>0.0</td>\n",
       "      <td>1.0</td>\n",
       "      <td>1.0</td>\n",
       "      <td>0.0</td>\n",
       "      <td>0.0</td>\n",
       "      <td>0.0</td>\n",
       "      <td>1.0</td>\n",
       "      <td>0.0</td>\n",
       "    </tr>\n",
       "    <tr>\n",
       "      <th>3</th>\n",
       "      <td>33</td>\n",
       "      <td>22.705</td>\n",
       "      <td>0</td>\n",
       "      <td>21984.47061</td>\n",
       "      <td>0.0</td>\n",
       "      <td>1.0</td>\n",
       "      <td>1.0</td>\n",
       "      <td>0.0</td>\n",
       "      <td>0.0</td>\n",
       "      <td>1.0</td>\n",
       "      <td>0.0</td>\n",
       "      <td>0.0</td>\n",
       "    </tr>\n",
       "  </tbody>\n",
       "</table>\n",
       "</div>"
      ],
      "text/plain": [
       "   age     bmi  children      charges  sex_female  sex_male  smoker_no  \\\n",
       "0   19  27.900         0  16884.92400         1.0       0.0        0.0   \n",
       "1   18  33.770         1   1725.55230         0.0       1.0        1.0   \n",
       "2   28  33.000         3   4449.46200         0.0       1.0        1.0   \n",
       "3   33  22.705         0  21984.47061         0.0       1.0        1.0   \n",
       "\n",
       "   smoker_yes  region_northeast  region_northwest  region_southeast  \\\n",
       "0         1.0               0.0               0.0               0.0   \n",
       "1         0.0               0.0               0.0               1.0   \n",
       "2         0.0               0.0               0.0               1.0   \n",
       "3         0.0               0.0               1.0               0.0   \n",
       "\n",
       "   region_southwest  \n",
       "0               1.0  \n",
       "1               0.0  \n",
       "2               0.0  \n",
       "3               0.0  "
      ]
     },
     "execution_count": 20,
     "metadata": {},
     "output_type": "execute_result"
    }
   ],
   "source": [
    "df5 = df.copy()\n",
    "columns_to_encode = ['sex','smoker','region']\n",
    "\n",
    "#Create a new DataFrame to store the encoded columns\n",
    "df_hotcoded = pd.DataFrame()\n",
    "\n",
    "for col in columns_to_encode:\n",
    "    onehot = enc2.fit_transform(df5[[col]])\n",
    "    feature_names = enc2.get_feature_names_out([col])\n",
    "    onehot_df = pd.DataFrame(onehot.toarray(), columns=feature_names)\n",
    "    df_hotcoded = pd.concat([df_hotcoded,onehot_df], axis=1)\n",
    "    \n",
    "encoded_df5 = pd.concat([df5.drop(['sex','smoker','region'],axis=1), df_hotcoded], axis=1)\n",
    "encoded_df5.head(4)"
   ]
  },
  {
   "cell_type": "markdown",
   "id": "d055edd3",
   "metadata": {},
   "source": [
    "<h3 style = \"color:indigo\">2.2 Using OneHotEncoder() with 'Column Transformer'</h3>"
   ]
  },
  {
   "cell_type": "code",
   "execution_count": 21,
   "id": "c1dd3c26",
   "metadata": {},
   "outputs": [
    {
     "data": {
      "text/html": [
       "<div>\n",
       "<style scoped>\n",
       "    .dataframe tbody tr th:only-of-type {\n",
       "        vertical-align: middle;\n",
       "    }\n",
       "\n",
       "    .dataframe tbody tr th {\n",
       "        vertical-align: top;\n",
       "    }\n",
       "\n",
       "    .dataframe thead th {\n",
       "        text-align: right;\n",
       "    }\n",
       "</style>\n",
       "<table border=\"1\" class=\"dataframe\">\n",
       "  <thead>\n",
       "    <tr style=\"text-align: right;\">\n",
       "      <th></th>\n",
       "      <th>hot__sex_female</th>\n",
       "      <th>hot__sex_male</th>\n",
       "      <th>hot__smoker_no</th>\n",
       "      <th>hot__smoker_yes</th>\n",
       "      <th>hot__region_northeast</th>\n",
       "      <th>hot__region_northwest</th>\n",
       "      <th>hot__region_southeast</th>\n",
       "      <th>hot__region_southwest</th>\n",
       "      <th>remainder__age</th>\n",
       "      <th>remainder__bmi</th>\n",
       "      <th>remainder__children</th>\n",
       "      <th>remainder__charges</th>\n",
       "    </tr>\n",
       "  </thead>\n",
       "  <tbody>\n",
       "    <tr>\n",
       "      <th>0</th>\n",
       "      <td>1.0</td>\n",
       "      <td>0.0</td>\n",
       "      <td>0.0</td>\n",
       "      <td>1.0</td>\n",
       "      <td>0.0</td>\n",
       "      <td>0.0</td>\n",
       "      <td>0.0</td>\n",
       "      <td>1.0</td>\n",
       "      <td>19.0</td>\n",
       "      <td>27.900</td>\n",
       "      <td>0.0</td>\n",
       "      <td>16884.92400</td>\n",
       "    </tr>\n",
       "    <tr>\n",
       "      <th>1</th>\n",
       "      <td>0.0</td>\n",
       "      <td>1.0</td>\n",
       "      <td>1.0</td>\n",
       "      <td>0.0</td>\n",
       "      <td>0.0</td>\n",
       "      <td>0.0</td>\n",
       "      <td>1.0</td>\n",
       "      <td>0.0</td>\n",
       "      <td>18.0</td>\n",
       "      <td>33.770</td>\n",
       "      <td>1.0</td>\n",
       "      <td>1725.55230</td>\n",
       "    </tr>\n",
       "    <tr>\n",
       "      <th>2</th>\n",
       "      <td>0.0</td>\n",
       "      <td>1.0</td>\n",
       "      <td>1.0</td>\n",
       "      <td>0.0</td>\n",
       "      <td>0.0</td>\n",
       "      <td>0.0</td>\n",
       "      <td>1.0</td>\n",
       "      <td>0.0</td>\n",
       "      <td>28.0</td>\n",
       "      <td>33.000</td>\n",
       "      <td>3.0</td>\n",
       "      <td>4449.46200</td>\n",
       "    </tr>\n",
       "    <tr>\n",
       "      <th>3</th>\n",
       "      <td>0.0</td>\n",
       "      <td>1.0</td>\n",
       "      <td>1.0</td>\n",
       "      <td>0.0</td>\n",
       "      <td>0.0</td>\n",
       "      <td>1.0</td>\n",
       "      <td>0.0</td>\n",
       "      <td>0.0</td>\n",
       "      <td>33.0</td>\n",
       "      <td>22.705</td>\n",
       "      <td>0.0</td>\n",
       "      <td>21984.47061</td>\n",
       "    </tr>\n",
       "  </tbody>\n",
       "</table>\n",
       "</div>"
      ],
      "text/plain": [
       "   hot__sex_female  hot__sex_male  hot__smoker_no  hot__smoker_yes  \\\n",
       "0              1.0            0.0             0.0              1.0   \n",
       "1              0.0            1.0             1.0              0.0   \n",
       "2              0.0            1.0             1.0              0.0   \n",
       "3              0.0            1.0             1.0              0.0   \n",
       "\n",
       "   hot__region_northeast  hot__region_northwest  hot__region_southeast  \\\n",
       "0                    0.0                    0.0                    0.0   \n",
       "1                    0.0                    0.0                    1.0   \n",
       "2                    0.0                    0.0                    1.0   \n",
       "3                    0.0                    1.0                    0.0   \n",
       "\n",
       "   hot__region_southwest  remainder__age  remainder__bmi  remainder__children  \\\n",
       "0                    1.0            19.0          27.900                  0.0   \n",
       "1                    0.0            18.0          33.770                  1.0   \n",
       "2                    0.0            28.0          33.000                  3.0   \n",
       "3                    0.0            33.0          22.705                  0.0   \n",
       "\n",
       "   remainder__charges  \n",
       "0         16884.92400  \n",
       "1          1725.55230  \n",
       "2          4449.46200  \n",
       "3         21984.47061  "
      ]
     },
     "execution_count": 21,
     "metadata": {},
     "output_type": "execute_result"
    }
   ],
   "source": [
    "from sklearn.compose import ColumnTransformer\n",
    "\n",
    "df6 = df.copy()\n",
    "columns_to_encode = ['sex','smoker','region']\n",
    "\n",
    "# Create a ColumnTransformer\n",
    "col_transformer = ColumnTransformer(\n",
    "    [('hot', enc2, columns_to_encode)],\n",
    "    remainder='passthrough')  # keep other columns unchanged\n",
    "\n",
    "transformed_data = col_transformer.fit_transform(df6)\n",
    "\n",
    "feature_names = col_transformer.get_feature_names_out()\n",
    "\n",
    "encoded_df6 = pd.DataFrame(transformed_data,columns=feature_names)\n",
    "encoded_df6.head(4)"
   ]
  },
  {
   "cell_type": "code",
   "execution_count": 22,
   "id": "ccfc7b30",
   "metadata": {
    "scrolled": true
   },
   "outputs": [
    {
     "data": {
      "text/html": [
       "<div>\n",
       "<style scoped>\n",
       "    .dataframe tbody tr th:only-of-type {\n",
       "        vertical-align: middle;\n",
       "    }\n",
       "\n",
       "    .dataframe tbody tr th {\n",
       "        vertical-align: top;\n",
       "    }\n",
       "\n",
       "    .dataframe thead th {\n",
       "        text-align: right;\n",
       "    }\n",
       "</style>\n",
       "<table border=\"1\" class=\"dataframe\">\n",
       "  <thead>\n",
       "    <tr style=\"text-align: right;\">\n",
       "      <th></th>\n",
       "      <th>sex_female</th>\n",
       "      <th>sex_male</th>\n",
       "      <th>smoker_no</th>\n",
       "      <th>smoker_yes</th>\n",
       "      <th>region_northeast</th>\n",
       "      <th>region_northwest</th>\n",
       "      <th>region_southeast</th>\n",
       "      <th>region_southwest</th>\n",
       "      <th>age</th>\n",
       "      <th>bmi</th>\n",
       "      <th>children</th>\n",
       "      <th>charges</th>\n",
       "    </tr>\n",
       "  </thead>\n",
       "  <tbody>\n",
       "    <tr>\n",
       "      <th>0</th>\n",
       "      <td>1.0</td>\n",
       "      <td>0.0</td>\n",
       "      <td>0.0</td>\n",
       "      <td>1.0</td>\n",
       "      <td>0.0</td>\n",
       "      <td>0.0</td>\n",
       "      <td>0.0</td>\n",
       "      <td>1.0</td>\n",
       "      <td>19.0</td>\n",
       "      <td>27.900</td>\n",
       "      <td>0.0</td>\n",
       "      <td>16884.92400</td>\n",
       "    </tr>\n",
       "    <tr>\n",
       "      <th>1</th>\n",
       "      <td>0.0</td>\n",
       "      <td>1.0</td>\n",
       "      <td>1.0</td>\n",
       "      <td>0.0</td>\n",
       "      <td>0.0</td>\n",
       "      <td>0.0</td>\n",
       "      <td>1.0</td>\n",
       "      <td>0.0</td>\n",
       "      <td>18.0</td>\n",
       "      <td>33.770</td>\n",
       "      <td>1.0</td>\n",
       "      <td>1725.55230</td>\n",
       "    </tr>\n",
       "    <tr>\n",
       "      <th>2</th>\n",
       "      <td>0.0</td>\n",
       "      <td>1.0</td>\n",
       "      <td>1.0</td>\n",
       "      <td>0.0</td>\n",
       "      <td>0.0</td>\n",
       "      <td>0.0</td>\n",
       "      <td>1.0</td>\n",
       "      <td>0.0</td>\n",
       "      <td>28.0</td>\n",
       "      <td>33.000</td>\n",
       "      <td>3.0</td>\n",
       "      <td>4449.46200</td>\n",
       "    </tr>\n",
       "    <tr>\n",
       "      <th>3</th>\n",
       "      <td>0.0</td>\n",
       "      <td>1.0</td>\n",
       "      <td>1.0</td>\n",
       "      <td>0.0</td>\n",
       "      <td>0.0</td>\n",
       "      <td>1.0</td>\n",
       "      <td>0.0</td>\n",
       "      <td>0.0</td>\n",
       "      <td>33.0</td>\n",
       "      <td>22.705</td>\n",
       "      <td>0.0</td>\n",
       "      <td>21984.47061</td>\n",
       "    </tr>\n",
       "  </tbody>\n",
       "</table>\n",
       "</div>"
      ],
      "text/plain": [
       "   sex_female  sex_male  smoker_no  smoker_yes  region_northeast  \\\n",
       "0         1.0       0.0        0.0         1.0               0.0   \n",
       "1         0.0       1.0        1.0         0.0               0.0   \n",
       "2         0.0       1.0        1.0         0.0               0.0   \n",
       "3         0.0       1.0        1.0         0.0               0.0   \n",
       "\n",
       "   region_northwest  region_southeast  region_southwest   age     bmi  \\\n",
       "0               0.0               0.0               1.0  19.0  27.900   \n",
       "1               0.0               1.0               0.0  18.0  33.770   \n",
       "2               0.0               1.0               0.0  28.0  33.000   \n",
       "3               1.0               0.0               0.0  33.0  22.705   \n",
       "\n",
       "   children      charges  \n",
       "0       0.0  16884.92400  \n",
       "1       1.0   1725.55230  \n",
       "2       3.0   4449.46200  \n",
       "3       0.0  21984.47061  "
      ]
     },
     "execution_count": 22,
     "metadata": {},
     "output_type": "execute_result"
    }
   ],
   "source": [
    "#Rename the columns of above DataFrame:\n",
    "\n",
    "# Get the feature names after one-hot encoding\n",
    "feature_names2 = col_transformer.named_transformers_['hot'].get_feature_names_out(columns_to_encode)\n",
    "#feature_names2 = col_transformer.named_transformers_['hot'].get_feature_names_out()\n",
    "\n",
    "# Combine feature names with remaining column names\n",
    "all_column_names = list(feature_names2) + list(df6.columns.drop(columns_to_encode))\n",
    "#all_column_names = list(feature_names) + ['age', 'bmi', 'children', 'charges']\n",
    "\n",
    "encoded_df6_new = pd.DataFrame(transformed_data,columns=all_column_names)\n",
    "encoded_df6_new.head(4)"
   ]
  },
  {
   "cell_type": "markdown",
   "id": "b2dc440f",
   "metadata": {},
   "source": [
    "<h1 style = \"color:green\">3. Ordinal Encoder</h1>"
   ]
  },
  {
   "cell_type": "code",
   "execution_count": 23,
   "id": "0b4481ae",
   "metadata": {},
   "outputs": [],
   "source": [
    "from sklearn.preprocessing import OrdinalEncoder\n",
    "ordinal = OrdinalEncoder()"
   ]
  },
  {
   "cell_type": "code",
   "execution_count": 24,
   "id": "41b9ffec",
   "metadata": {},
   "outputs": [
    {
     "name": "stdout",
     "output_type": "stream",
     "text": [
      "\u001b[2m\u001b[1m\u001b[34mOrdinal Encoded DataFrame Using 'for loop':\n",
      "\u001b[0m\n",
      "\u001b[93m   age  sex     bmi  children  smoker  region      charges\n",
      "0   19  0.0  27.900         0     1.0     3.0  16884.92400\n",
      "1   18  1.0  33.770         1     0.0     2.0   1725.55230\n",
      "2   28  1.0  33.000         3     0.0     2.0   4449.46200\n",
      "3   33  1.0  22.705         0     0.0     1.0  21984.47061\n",
      "4   32  1.0  28.880         0     0.0     1.0   3866.85520\u001b[0m\n"
     ]
    }
   ],
   "source": [
    "df7 = df.copy()\n",
    "columns_to_encode = ['sex','smoker','region']\n",
    "\n",
    "#using 'for loop':\n",
    "for col in columns_to_encode:\n",
    "    df7[col] = ordinal.fit_transform(df7[[col]])\n",
    "    \n",
    "    \n",
    "print(colored(f\"Ordinal Encoded DataFrame Using 'for loop':\\n\",color='blue',attrs = ['bold','dark']))\n",
    "print(colored(df7.head(),color= 'light_yellow'))"
   ]
  },
  {
   "cell_type": "markdown",
   "id": "498b5dfb",
   "metadata": {},
   "source": [
    "<h1 style = \"color:coral\">Three Encoder perform three different columns separately</h1>"
   ]
  },
  {
   "cell_type": "code",
   "execution_count": 25,
   "id": "9fe6e748",
   "metadata": {},
   "outputs": [
    {
     "name": "stdout",
     "output_type": "stream",
     "text": [
      "\u001b[2m\u001b[1m\u001b[34mHibrid Encoded DataFrame:\n",
      "\u001b[0m\n",
      "\u001b[93m   age  sex     bmi  children  region      charges  somker_no  somker_yes\n",
      "0   19    0  27.900         0     3.0  16884.92400          0           1\n",
      "1   18    1  33.770         1     2.0   1725.55230          1           0\n",
      "2   28    1  33.000         3     2.0   4449.46200          1           0\n",
      "3   33    1  22.705         0     1.0  21984.47061          1           0\n",
      "4   32    1  28.880         0     1.0   3866.85520          1           0\u001b[0m\n"
     ]
    }
   ],
   "source": [
    "df8 = df.copy()\n",
    "\n",
    "#we want to perform => [('sex', LabelEncoder()), ('smoker', OneHotEncoder()), ('region', OrdinalEncoder())]\n",
    "\n",
    "#Label Encoding\n",
    "df8.sex = LabelEncoder().fit_transform(df8[['sex']])\n",
    "\n",
    "#Ordinal Encoding\n",
    "df8.region = OrdinalEncoder().fit_transform(df8[['region']])\n",
    "\n",
    "#OneHot Encoding\n",
    "dummy_var = pd.get_dummies(df8[['smoker']], prefix = 'somker')\n",
    "\n",
    "encoder_df8 = pd.concat([df8.drop('smoker',axis = 1),dummy_var],axis =1)\n",
    "\n",
    "print(colored('Hibrid Encoded DataFrame:\\n', color = 'blue', attrs = ['bold','dark']))\n",
    "print(colored(encoder_df8.head(),color = 'light_yellow'))"
   ]
  }
 ],
 "metadata": {
  "kernelspec": {
   "display_name": "Python 3 (ipykernel)",
   "language": "python",
   "name": "python3"
  },
  "language_info": {
   "codemirror_mode": {
    "name": "ipython",
    "version": 3
   },
   "file_extension": ".py",
   "mimetype": "text/x-python",
   "name": "python",
   "nbconvert_exporter": "python",
   "pygments_lexer": "ipython3",
   "version": "3.10.9"
  }
 },
 "nbformat": 4,
 "nbformat_minor": 5
}
