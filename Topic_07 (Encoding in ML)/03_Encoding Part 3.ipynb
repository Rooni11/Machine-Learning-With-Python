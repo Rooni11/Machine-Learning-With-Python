{
 "cells": [
  {
   "cell_type": "markdown",
   "id": "d524c8be",
   "metadata": {},
   "source": [
    "# <font color=\"maganta\"><h3 align=\"center\">Topic - Encoding Part 3</h3></font> "
   ]
  },
  {
   "cell_type": "code",
   "execution_count": 1,
   "id": "a99fba9f",
   "metadata": {},
   "outputs": [],
   "source": [
    "import pandas as pd\n",
    "import numpy as np\n",
    "from sklearn import preprocessing"
   ]
  },
  {
   "cell_type": "markdown",
   "id": "08c72a91",
   "metadata": {},
   "source": [
    "<h1 style = \"color:green\"> Ordinal Encoding</h1>"
   ]
  },
  {
   "cell_type": "code",
   "execution_count": 2,
   "id": "49eb927c",
   "metadata": {},
   "outputs": [
    {
     "data": {
      "text/plain": [
       "array([[ 1.],\n",
       "       [ 0.],\n",
       "       [nan],\n",
       "       [ 0.]])"
      ]
     },
     "execution_count": 2,
     "metadata": {},
     "output_type": "execute_result"
    }
   ],
   "source": [
    "enc = preprocessing.OrdinalEncoder()\n",
    "X = [['male'], ['female'], [np.nan], ['female']]\n",
    "enc.fit_transform(X)"
   ]
  },
  {
   "cell_type": "code",
   "execution_count": 3,
   "id": "493c57d3",
   "metadata": {},
   "outputs": [
    {
     "data": {
      "text/plain": [
       "list"
      ]
     },
     "execution_count": 3,
     "metadata": {},
     "output_type": "execute_result"
    }
   ],
   "source": [
    "type(X)"
   ]
  },
  {
   "cell_type": "markdown",
   "id": "960a73f0",
   "metadata": {},
   "source": [
    "<h3 style = \"color:indigo\">Encoding misssing value</h3>"
   ]
  },
  {
   "cell_type": "code",
   "execution_count": 4,
   "id": "e50cdd33",
   "metadata": {},
   "outputs": [
    {
     "data": {
      "text/plain": [
       "array([[ 1.],\n",
       "       [ 0.],\n",
       "       [-1.],\n",
       "       [ 0.]])"
      ]
     },
     "execution_count": 4,
     "metadata": {},
     "output_type": "execute_result"
    }
   ],
   "source": [
    "#OrdinalEncoder provides a parameter encoded_missing_value to encode the missing values \n",
    "#without the need to create a pipeline and using SimpleImputer.\n",
    "\n",
    "enc = preprocessing.OrdinalEncoder(encoded_missing_value=-1)\n",
    "X = [['male'], ['female'], [np.nan], ['female']]\n",
    "enc.fit_transform(X)"
   ]
  },
  {
   "cell_type": "markdown",
   "id": "cc103ba3",
   "metadata": {},
   "source": [
    "<h3 style = \"color:indigo\">Encoding misssing value using Pipeline</h3>"
   ]
  },
  {
   "cell_type": "code",
   "execution_count": 5,
   "id": "04bf6b4b",
   "metadata": {},
   "outputs": [
    {
     "data": {
      "text/plain": [
       "array([[ 1.],\n",
       "       [ 0.],\n",
       "       [-1.],\n",
       "       [ 0.]])"
      ]
     },
     "execution_count": 5,
     "metadata": {},
     "output_type": "execute_result"
    }
   ],
   "source": [
    "from sklearn.pipeline import Pipeline\n",
    "from sklearn.impute import SimpleImputer\n",
    "enc = Pipeline(steps=[\n",
    "    (\"encoder\", preprocessing.OrdinalEncoder()),\n",
    "    (\"imputer\", SimpleImputer(strategy=\"constant\", fill_value=-1)),\n",
    "])\n",
    "enc.fit_transform(X)"
   ]
  },
  {
   "cell_type": "markdown",
   "id": "5efc33fc",
   "metadata": {},
   "source": [
    "<h1 style = \"color:green\">One Hot Encoder</h1>"
   ]
  },
  {
   "cell_type": "markdown",
   "id": "f85132c7",
   "metadata": {},
   "source": [
    "<h4 style = \"color:indigo\">exercise 1</h4>"
   ]
  },
  {
   "cell_type": "code",
   "execution_count": 6,
   "id": "82429ae1",
   "metadata": {},
   "outputs": [
    {
     "data": {
      "text/plain": [
       "array([[0., 1., 0., 1., 0., 1.],\n",
       "       [1., 0., 1., 0., 1., 0.]])"
      ]
     },
     "execution_count": 6,
     "metadata": {},
     "output_type": "execute_result"
    }
   ],
   "source": [
    "enc = preprocessing.OneHotEncoder()\n",
    "X = [['male', 'from US', 'uses Safari'], \n",
    "     ['female', 'from Europe', 'uses Firefox']]\n",
    "\n",
    "enc.fit_transform(X).toarray()"
   ]
  },
  {
   "cell_type": "markdown",
   "id": "9b693dee",
   "metadata": {},
   "source": [
    "<h4 style = \"color:indigo\">exercise 2</h4>"
   ]
  },
  {
   "cell_type": "code",
   "execution_count": 7,
   "id": "6407386d",
   "metadata": {},
   "outputs": [
    {
     "data": {
      "text/plain": [
       "array([[0., 1., 0., 0., 0., 1., 0., 0., 0., 1.],\n",
       "       [1., 0., 0., 0., 1., 0., 0., 1., 0., 0.]])"
      ]
     },
     "execution_count": 7,
     "metadata": {},
     "output_type": "execute_result"
    }
   ],
   "source": [
    "genders = ['female', 'male']\n",
    "locations = ['from Africa', 'from Asia', 'from Europe', 'from US']\n",
    "browsers = ['uses Chrome', 'uses Firefox', 'uses IE', 'uses Safari']\n",
    "enc = preprocessing.OneHotEncoder(categories=[genders, locations, browsers])\n",
    "# Note that for there are missing categorical values for the 2nd and 3rd feature\n",
    "\n",
    "X = [['male', 'from US', 'uses Safari'], ['female', 'from Europe', 'uses Firefox']]\n",
    "enc.fit_transform(X).toarray()"
   ]
  },
  {
   "cell_type": "code",
   "execution_count": 8,
   "id": "8c321c8f",
   "metadata": {},
   "outputs": [
    {
     "data": {
      "text/html": [
       "<div>\n",
       "<style scoped>\n",
       "    .dataframe tbody tr th:only-of-type {\n",
       "        vertical-align: middle;\n",
       "    }\n",
       "\n",
       "    .dataframe tbody tr th {\n",
       "        vertical-align: top;\n",
       "    }\n",
       "\n",
       "    .dataframe thead th {\n",
       "        text-align: right;\n",
       "    }\n",
       "</style>\n",
       "<table border=\"1\" class=\"dataframe\">\n",
       "  <thead>\n",
       "    <tr style=\"text-align: right;\">\n",
       "      <th></th>\n",
       "      <th>0</th>\n",
       "      <th>1</th>\n",
       "      <th>2</th>\n",
       "      <th>3</th>\n",
       "      <th>4</th>\n",
       "      <th>5</th>\n",
       "      <th>6</th>\n",
       "      <th>7</th>\n",
       "      <th>8</th>\n",
       "      <th>9</th>\n",
       "    </tr>\n",
       "  </thead>\n",
       "  <tbody>\n",
       "    <tr>\n",
       "      <th>0</th>\n",
       "      <td>0.0</td>\n",
       "      <td>1.0</td>\n",
       "      <td>0.0</td>\n",
       "      <td>0.0</td>\n",
       "      <td>0.0</td>\n",
       "      <td>1.0</td>\n",
       "      <td>0.0</td>\n",
       "      <td>0.0</td>\n",
       "      <td>0.0</td>\n",
       "      <td>1.0</td>\n",
       "    </tr>\n",
       "    <tr>\n",
       "      <th>1</th>\n",
       "      <td>1.0</td>\n",
       "      <td>0.0</td>\n",
       "      <td>0.0</td>\n",
       "      <td>0.0</td>\n",
       "      <td>1.0</td>\n",
       "      <td>0.0</td>\n",
       "      <td>0.0</td>\n",
       "      <td>1.0</td>\n",
       "      <td>0.0</td>\n",
       "      <td>0.0</td>\n",
       "    </tr>\n",
       "  </tbody>\n",
       "</table>\n",
       "</div>"
      ],
      "text/plain": [
       "     0    1    2    3    4    5    6    7    8    9\n",
       "0  0.0  1.0  0.0  0.0  0.0  1.0  0.0  0.0  0.0  1.0\n",
       "1  1.0  0.0  0.0  0.0  1.0  0.0  0.0  1.0  0.0  0.0"
      ]
     },
     "execution_count": 8,
     "metadata": {},
     "output_type": "execute_result"
    }
   ],
   "source": [
    "df = pd.DataFrame(enc.fit_transform(X).toarray(),columns=None)\n",
    "df"
   ]
  },
  {
   "cell_type": "raw",
   "id": "0994aeca",
   "metadata": {},
   "source": [
    "Note: See carefully above two encoding and find out how it works."
   ]
  },
  {
   "cell_type": "markdown",
   "id": "5bec2930",
   "metadata": {},
   "source": [
    "<h4 style = \"color:indigo\">exercise 3</h4>"
   ]
  },
  {
   "cell_type": "code",
   "execution_count": 9,
   "id": "6a17d3df",
   "metadata": {},
   "outputs": [
    {
     "data": {
      "text/plain": [
       "array([[1., 0., 0., 1., 0., 0., 1., 0., 0., 0.]])"
      ]
     },
     "execution_count": 9,
     "metadata": {},
     "output_type": "execute_result"
    }
   ],
   "source": [
    "genders = ['female', 'male']\n",
    "locations = ['from Africa', 'from Asia', 'from Europe', 'from US']\n",
    "browsers = ['uses Chrome', 'uses Firefox', 'uses IE', 'uses Safari']\n",
    "enc = preprocessing.OneHotEncoder(categories=[genders, locations, browsers])\n",
    "# Note that for there are missing categorical values for the 2nd and 3rd feature\n",
    "X = [['male', 'from US', 'uses Safari'], ['female', 'from Europe', 'uses Firefox']]\n",
    "enc.fit(X)\n",
    "enc.transform([['female', 'from Asia', 'uses Chrome']]).toarray()"
   ]
  },
  {
   "cell_type": "markdown",
   "id": "daa06de4",
   "metadata": {},
   "source": [
    "<h3 style = \"color:indigo\">#handle_unknown='infrequent_if_exist'</h3>"
   ]
  },
  {
   "cell_type": "code",
   "execution_count": 11,
   "id": "db17d158",
   "metadata": {},
   "outputs": [
    {
     "name": "stdout",
     "output_type": "stream",
     "text": [
      "\n"
     ]
    }
   ],
   "source": [
    "\"\"\"\n",
    "Note: If there is a possibility that the training data might have missing categorical features, it can often be better\n",
    "to specify handle_unknown='infrequent_if_exist' instead of setting the categories manually as above.\n",
    "\n",
    "When handle_unknown='infrequent_if_exist' is specified and unknown categories are encountered during transform,no error\n",
    "will be raised but the resulting one-hot encoded columns for this feature will be all zeros or considered as an infrequent\n",
    "category if enabled. (handle_unknown='infrequent_if_exist' is only supported for one-hot encoding).\n",
    "\"\"\"\n",
    "print()"
   ]
  },
  {
   "cell_type": "code",
   "execution_count": 12,
   "id": "db7a1273",
   "metadata": {},
   "outputs": [
    {
     "data": {
      "text/plain": [
       "array([[1., 0., 0., 0., 0., 0.]])"
      ]
     },
     "execution_count": 12,
     "metadata": {},
     "output_type": "execute_result"
    }
   ],
   "source": [
    "enc = preprocessing.OneHotEncoder(handle_unknown='infrequent_if_exist')\n",
    "X = [['male', 'from US', 'uses Safari'], ['female', 'from Europe', 'uses Firefox']]\n",
    "enc.fit(X)\n",
    "enc.transform([['female', 'from Asia', 'uses Chrome']]).toarray()"
   ]
  },
  {
   "cell_type": "markdown",
   "id": "f3646dfc",
   "metadata": {},
   "source": [
    "<h3 style = \"color:indigo\">parameter: (drop='first')</h3>"
   ]
  },
  {
   "cell_type": "code",
   "execution_count": 13,
   "id": "7b5217c2",
   "metadata": {},
   "outputs": [
    {
     "name": "stdout",
     "output_type": "stream",
     "text": [
      "\n"
     ]
    }
   ],
   "source": [
    "\"\"\"\n",
    "Note: It is also possible to encode each column into n_categories - 1 columns instead of n_categories columns by using \n",
    "the drop parameter. This parameter allows the user to specify a category for each feature to be dropped. This is useful\n",
    "to avoid co-linearity in the input matrix in some classifiers. Such functionality is useful, for example, when using\n",
    "non-regularized regression (LinearRegression), since co-linearity would cause the covariance matrix to be non-invertible.\n",
    "\n",
    "\"\"\"\n",
    "print()"
   ]
  },
  {
   "cell_type": "code",
   "execution_count": 14,
   "id": "eb305945",
   "metadata": {},
   "outputs": [
    {
     "data": {
      "text/plain": [
       "array([[1., 1., 1.],\n",
       "       [0., 0., 0.]])"
      ]
     },
     "execution_count": 14,
     "metadata": {},
     "output_type": "execute_result"
    }
   ],
   "source": [
    "X = [['male', 'from US', 'uses Safari'],\n",
    "     ['female', 'from Europe', 'uses Firefox']]\n",
    "\n",
    "drop_enc = preprocessing.OneHotEncoder(drop='first').fit(X)\n",
    "drop_enc.transform(X).toarray()"
   ]
  },
  {
   "cell_type": "code",
   "execution_count": 15,
   "id": "100efb94",
   "metadata": {},
   "outputs": [
    {
     "data": {
      "text/plain": [
       "array([[0., 1., 0., 1., 0., 1.],\n",
       "       [1., 0., 1., 0., 1., 0.]])"
      ]
     },
     "execution_count": 15,
     "metadata": {},
     "output_type": "execute_result"
    }
   ],
   "source": [
    "X = [['male', 'from US', 'uses Safari'],\n",
    "     ['female', 'from Europe', 'uses Firefox']]\n",
    "\n",
    "drop_enc = preprocessing.OneHotEncoder().fit(X)\n",
    "drop_enc.transform(X).toarray()"
   ]
  },
  {
   "cell_type": "markdown",
   "id": "26dcc4c0",
   "metadata": {},
   "source": [
    "<h3 style = \"color:indigo\">parameter (drop='if_binary')</h3>"
   ]
  },
  {
   "cell_type": "markdown",
   "id": "49a1664a",
   "metadata": {},
   "source": [
    "We can drop one of the two columns only for features with 2 categories. In this case, we can set the parameter drop='if_binary'."
   ]
  },
  {
   "cell_type": "code",
   "execution_count": 17,
   "id": "bf7c31c3",
   "metadata": {},
   "outputs": [
    {
     "data": {
      "text/plain": [
       "array([[1., 0., 0., 1., 0., 0., 1.],\n",
       "       [0., 0., 1., 0., 0., 1., 0.],\n",
       "       [0., 1., 0., 0., 1., 0., 0.]])"
      ]
     },
     "execution_count": 17,
     "metadata": {},
     "output_type": "execute_result"
    }
   ],
   "source": [
    "X = [['male', 'US', 'Safari'],\n",
    "     ['female', 'Europe', 'Firefox'],\n",
    "     ['female', 'Asia', 'Chrome']]\n",
    "drop_enc = preprocessing.OneHotEncoder(drop='if_binary').fit(X)\n",
    "drop_enc.transform(X).toarray()\n",
    "#here encode for female is dropped."
   ]
  },
  {
   "cell_type": "code",
   "execution_count": 18,
   "id": "8d7d56b4",
   "metadata": {},
   "outputs": [
    {
     "data": {
      "text/plain": [
       "[array(['female', 'male'], dtype=object),\n",
       " array(['Asia', 'Europe', 'US'], dtype=object),\n",
       " array(['Chrome', 'Firefox', 'Safari'], dtype=object)]"
      ]
     },
     "execution_count": 18,
     "metadata": {},
     "output_type": "execute_result"
    }
   ],
   "source": [
    "drop_enc.categories_"
   ]
  },
  {
   "cell_type": "markdown",
   "id": "646ceb5a",
   "metadata": {},
   "source": [
    "<h3 style = \"color:indigo\">parameter (handle_unknown='ignore')</h3>"
   ]
  },
  {
   "cell_type": "code",
   "execution_count": 25,
   "id": "07c1c886",
   "metadata": {},
   "outputs": [
    {
     "data": {
      "text/plain": [
       "array([[0., 0., 1.],\n",
       "       [0., 0., 1.],\n",
       "       [1., 0., 0.],\n",
       "       [0., 1., 0.],\n",
       "       [0., 1., 0.],\n",
       "       [0., 1., 0.]])"
      ]
     },
     "execution_count": 25,
     "metadata": {},
     "output_type": "execute_result"
    }
   ],
   "source": [
    "from sklearn.preprocessing import OneHotEncoder\n",
    "hot = OneHotEncoder(handle_unknown='ignore',sparse_output=False)\n",
    "\n",
    "df = pd.DataFrame({\n",
    "    'Country': ['USA', 'USA', 'IND', 'UK', 'UK', 'UK'],\n",
    "    'Fruits': ['Apple', 'Strawberry', 'Mango', 'Berries', 'Banana', 'Grape'],\n",
    "    'Flower': ['Rose', 'Lily', 'Orchid', 'Petunia', 'Lotus', 'Dandelion'],\n",
    "    'Result': [1, 2, 3, 4, 5, 6]\n",
    "})\n",
    "\n",
    "hot.fit_transform(df[['Country']])"
   ]
  },
  {
   "cell_type": "code",
   "execution_count": 27,
   "id": "86cbb877",
   "metadata": {},
   "outputs": [
    {
     "data": {
      "text/plain": [
       "array([[0., 0., 1.],\n",
       "       [0., 0., 0.],\n",
       "       [1., 0., 0.],\n",
       "       [0., 1., 0.],\n",
       "       [0., 1., 0.],\n",
       "       [0., 1., 0.]])"
      ]
     },
     "execution_count": 27,
     "metadata": {},
     "output_type": "execute_result"
    }
   ],
   "source": [
    "# Create a test dataframe with a new value in the 'Country' column\n",
    "test_df = pd.DataFrame({\n",
    "    'Country': ['USA', 'CAN', 'IND', 'UK', 'UK', 'UK'],\n",
    "    'Fruits': ['Apple', 'Strawberry', 'Mango', 'Berries', 'Banana', 'Grape'],\n",
    "    'Flower': ['Rose', 'Lily', 'Orchid', 'Petunia', 'Lotus', 'Dandelion'],\n",
    "    'Result': [1, 2, 3, 4, 5, 6]\n",
    "})\n",
    "\n",
    "hot.transform(test_df[['Country']])"
   ]
  },
  {
   "cell_type": "markdown",
   "id": "1f28d764",
   "metadata": {},
   "source": [
    "Note: The second row has all zeros, indicating that ‘CAN’ is an unknown category."
   ]
  },
  {
   "cell_type": "markdown",
   "id": "43432b1c",
   "metadata": {},
   "source": [
    "<h3 style = \"color:indigo\">Handling missing value</h3>"
   ]
  },
  {
   "cell_type": "code",
   "execution_count": 28,
   "id": "c4487ac1",
   "metadata": {},
   "outputs": [
    {
     "data": {
      "text/plain": [
       "array([[0., 1., 0., 0., 1., 0.],\n",
       "       [1., 0., 0., 0., 0., 1.],\n",
       "       [0., 0., 1., 1., 0., 0.]])"
      ]
     },
     "execution_count": 28,
     "metadata": {},
     "output_type": "execute_result"
    }
   ],
   "source": [
    "X = [['male', 'Safari'],\n",
    "     ['female', None],\n",
    "     [np.nan, 'Firefox']]\n",
    "enc = preprocessing.OneHotEncoder(handle_unknown='error').fit(X)\n",
    "enc.transform(X).toarray()"
   ]
  },
  {
   "cell_type": "code",
   "execution_count": 22,
   "id": "2659c43a",
   "metadata": {},
   "outputs": [
    {
     "data": {
      "text/plain": [
       "[array(['female', 'male', nan], dtype=object),\n",
       " array(['Firefox', 'Safari', None], dtype=object)]"
      ]
     },
     "execution_count": 22,
     "metadata": {},
     "output_type": "execute_result"
    }
   ],
   "source": [
    "enc.categories_"
   ]
  },
  {
   "cell_type": "markdown",
   "id": "aab52b86",
   "metadata": {},
   "source": [
    "Note: OneHotEncoder supports categorical features with missing values by considering the missing values as an additional category."
   ]
  },
  {
   "cell_type": "code",
   "execution_count": 29,
   "id": "c11ce3a2",
   "metadata": {},
   "outputs": [
    {
     "data": {
      "text/plain": [
       "array([[0., 1., 0., 0.],\n",
       "       [0., 0., 1., 0.],\n",
       "       [0., 0., 0., 1.],\n",
       "       [1., 0., 0., 0.]])"
      ]
     },
     "execution_count": 29,
     "metadata": {},
     "output_type": "execute_result"
    }
   ],
   "source": [
    "# feature contains both np.nan and None\n",
    "X = [['Safari'], [None], [np.nan], ['Firefox']]\n",
    "enc = preprocessing.OneHotEncoder(handle_unknown='error').fit(X)\n",
    "enc.categories_\n",
    "enc.transform(X).toarray()"
   ]
  },
  {
   "cell_type": "markdown",
   "id": "81d6efe9",
   "metadata": {},
   "source": [
    "Note: If a feature contains both np.nan and None, they will be considered separate categories."
   ]
  }
 ],
 "metadata": {
  "kernelspec": {
   "display_name": "Python 3 (ipykernel)",
   "language": "python",
   "name": "python3"
  },
  "language_info": {
   "codemirror_mode": {
    "name": "ipython",
    "version": 3
   },
   "file_extension": ".py",
   "mimetype": "text/x-python",
   "name": "python",
   "nbconvert_exporter": "python",
   "pygments_lexer": "ipython3",
   "version": "3.10.9"
  }
 },
 "nbformat": 4,
 "nbformat_minor": 5
}
