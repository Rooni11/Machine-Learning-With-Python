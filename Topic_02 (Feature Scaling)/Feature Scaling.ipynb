{
 "cells": [
  {
   "cell_type": "markdown",
   "id": "bf3d1b56",
   "metadata": {},
   "source": [
    "# <font color=\"maganta\"><h3 align=\"center\">Feature Scaling</h3></font> "
   ]
  },
  {
   "cell_type": "markdown",
   "id": "78faa7cd",
   "metadata": {},
   "source": [
    "<h3 style = \"color:green\" >Different types of feature scaling techniques:</h3>"
   ]
  },
  {
   "cell_type": "markdown",
   "id": "c43a1e72",
   "metadata": {},
   "source": [
    "1. Min-Max Scaling (Normalization) <br>\n",
    "2. Standardization (Z-score normalization) <br>\n",
    "3. Log Transformation <br>\n",
    "4. Robust Scaling <br>\n",
    "5. Max Absolute Scaling"
   ]
  },
  {
   "cell_type": "markdown",
   "id": "672fbc3a",
   "metadata": {},
   "source": [
    "<h3 style = \"color:green\" >Imported Libraries</h3>"
   ]
  },
  {
   "cell_type": "code",
   "execution_count": 1,
   "id": "4d9275de",
   "metadata": {},
   "outputs": [],
   "source": [
    "import pandas as pd\n",
    "import numpy as np\n",
    "\n",
    "from sklearn.preprocessing import MinMaxScaler,StandardScaler,FunctionTransformer,RobustScaler,MaxAbsScaler"
   ]
  },
  {
   "cell_type": "markdown",
   "id": "bcd4a962",
   "metadata": {},
   "source": [
    "<h3 style = \"color:green\" >Data Set</h3> "
   ]
  },
  {
   "cell_type": "code",
   "execution_count": 2,
   "id": "ae7f4c71",
   "metadata": {},
   "outputs": [
    {
     "data": {
      "text/html": [
       "<div>\n",
       "<style scoped>\n",
       "    .dataframe tbody tr th:only-of-type {\n",
       "        vertical-align: middle;\n",
       "    }\n",
       "\n",
       "    .dataframe tbody tr th {\n",
       "        vertical-align: top;\n",
       "    }\n",
       "\n",
       "    .dataframe thead th {\n",
       "        text-align: right;\n",
       "    }\n",
       "</style>\n",
       "<table border=\"1\" class=\"dataframe\">\n",
       "  <thead>\n",
       "    <tr style=\"text-align: right;\">\n",
       "      <th></th>\n",
       "      <th>price</th>\n",
       "    </tr>\n",
       "  </thead>\n",
       "  <tbody>\n",
       "    <tr>\n",
       "      <th>0</th>\n",
       "      <td>110</td>\n",
       "    </tr>\n",
       "    <tr>\n",
       "      <th>1</th>\n",
       "      <td>105</td>\n",
       "    </tr>\n",
       "    <tr>\n",
       "      <th>2</th>\n",
       "      <td>115</td>\n",
       "    </tr>\n",
       "    <tr>\n",
       "      <th>3</th>\n",
       "      <td>120</td>\n",
       "    </tr>\n",
       "    <tr>\n",
       "      <th>4</th>\n",
       "      <td>110</td>\n",
       "    </tr>\n",
       "    <tr>\n",
       "      <th>5</th>\n",
       "      <td>130</td>\n",
       "    </tr>\n",
       "    <tr>\n",
       "      <th>6</th>\n",
       "      <td>150</td>\n",
       "    </tr>\n",
       "    <tr>\n",
       "      <th>7</th>\n",
       "      <td>100</td>\n",
       "    </tr>\n",
       "    <tr>\n",
       "      <th>8</th>\n",
       "      <td>105</td>\n",
       "    </tr>\n",
       "  </tbody>\n",
       "</table>\n",
       "</div>"
      ],
      "text/plain": [
       "   price\n",
       "0    110\n",
       "1    105\n",
       "2    115\n",
       "3    120\n",
       "4    110\n",
       "5    130\n",
       "6    150\n",
       "7    100\n",
       "8    105"
      ]
     },
     "execution_count": 2,
     "metadata": {},
     "output_type": "execute_result"
    }
   ],
   "source": [
    "data = {'price': [110,105,115,120,110,130,150,100,105]}\n",
    "\n",
    "df = pd.DataFrame(data)\n",
    "df"
   ]
  },
  {
   "cell_type": "code",
   "execution_count": 3,
   "id": "7a3f8382",
   "metadata": {},
   "outputs": [],
   "source": [
    "#for manual calculation \n",
    "x = df.price #x=df['price']"
   ]
  },
  {
   "cell_type": "markdown",
   "id": "761ff42f",
   "metadata": {},
   "source": [
    "## <font color=\"purple\"><h3>1. Min-Max Scaling (Normalization)</h3></font>"
   ]
  },
  {
   "cell_type": "markdown",
   "id": "39f2c7fb",
   "metadata": {},
   "source": [
    "<img src=\"Normalization.JPG\" width=\"400\" height=\"200\">"
   ]
  },
  {
   "cell_type": "markdown",
   "id": "f44c2921",
   "metadata": {},
   "source": [
    "### Using Python"
   ]
  },
  {
   "cell_type": "code",
   "execution_count": 4,
   "id": "9443278c",
   "metadata": {},
   "outputs": [
    {
     "data": {
      "text/plain": [
       "0    0.2\n",
       "1    0.1\n",
       "2    0.3\n",
       "3    0.4\n",
       "4    0.2\n",
       "5    0.6\n",
       "6    1.0\n",
       "7    0.0\n",
       "8    0.1\n",
       "Name: price, dtype: float64"
      ]
     },
     "execution_count": 4,
     "metadata": {},
     "output_type": "execute_result"
    }
   ],
   "source": [
    "normalization = (x-np.min(x))/(np.max(x)-np.min(x))\n",
    "#normalization = (x-min(x))/(max(x)-min(x))\n",
    "normalization"
   ]
  },
  {
   "cell_type": "markdown",
   "id": "05f11344",
   "metadata": {},
   "source": [
    "### Using sklearn module"
   ]
  },
  {
   "cell_type": "code",
   "execution_count": 5,
   "id": "8dcde9af",
   "metadata": {},
   "outputs": [],
   "source": [
    "from sklearn.preprocessing import MinMaxScaler\n",
    "mms = MinMaxScaler()"
   ]
  },
  {
   "cell_type": "code",
   "execution_count": 6,
   "id": "ae64148e",
   "metadata": {},
   "outputs": [
    {
     "data": {
      "text/plain": [
       "array([[0.2],\n",
       "       [0.1],\n",
       "       [0.3],\n",
       "       [0.4],\n",
       "       [0.2],\n",
       "       [0.6],\n",
       "       [1. ],\n",
       "       [0. ],\n",
       "       [0.1]])"
      ]
     },
     "execution_count": 6,
     "metadata": {},
     "output_type": "execute_result"
    }
   ],
   "source": [
    "mms.fit_transform(df[['price']])"
   ]
  },
  {
   "cell_type": "markdown",
   "id": "142ab681",
   "metadata": {},
   "source": [
    "## <font color=\"purple\"><h3>2. Standardization (Z-score Normalization)</h3></font>"
   ]
  },
  {
   "cell_type": "markdown",
   "id": "10b6760c",
   "metadata": {},
   "source": [
    "<img src=\"standarization.JPG\" width=\"400\" height=\"200\">"
   ]
  },
  {
   "cell_type": "markdown",
   "id": "7a925bba",
   "metadata": {},
   "source": [
    "### Using Python"
   ]
  },
  {
   "cell_type": "code",
   "execution_count": 7,
   "id": "8efdc859",
   "metadata": {},
   "outputs": [
    {
     "data": {
      "text/plain": [
       "0   -0.416356\n",
       "1   -0.757011\n",
       "2   -0.075701\n",
       "3    0.264954\n",
       "4   -0.416356\n",
       "5    0.946264\n",
       "6    2.308884\n",
       "7   -1.097666\n",
       "8   -0.757011\n",
       "Name: price, dtype: float64"
      ]
     },
     "execution_count": 7,
     "metadata": {},
     "output_type": "execute_result"
    }
   ],
   "source": [
    "standardization = (x-x.mean())/x.std(ddof=0) #ddof=o means we use n to calculate std.\n",
    "standardization"
   ]
  },
  {
   "cell_type": "markdown",
   "id": "aeffbb05",
   "metadata": {},
   "source": [
    "### Using sklearn module"
   ]
  },
  {
   "cell_type": "code",
   "execution_count": 8,
   "id": "ca0878d8",
   "metadata": {},
   "outputs": [],
   "source": [
    "from sklearn.preprocessing import StandardScaler \n",
    "ss = StandardScaler()"
   ]
  },
  {
   "cell_type": "code",
   "execution_count": 9,
   "id": "1a90768c",
   "metadata": {},
   "outputs": [
    {
     "data": {
      "text/plain": [
       "array([[-0.41635614],\n",
       "       [-0.75701116],\n",
       "       [-0.07570112],\n",
       "       [ 0.26495391],\n",
       "       [-0.41635614],\n",
       "       [ 0.94626396],\n",
       "       [ 2.30888405],\n",
       "       [-1.09766619],\n",
       "       [-0.75701116]])"
      ]
     },
     "execution_count": 9,
     "metadata": {},
     "output_type": "execute_result"
    }
   ],
   "source": [
    "ss.fit_transform(df[['price']])"
   ]
  },
  {
   "cell_type": "markdown",
   "id": "cc5ff652",
   "metadata": {},
   "source": [
    "## <font color=\"purple\"><h3>3.Log Transformation</h3></font>"
   ]
  },
  {
   "cell_type": "markdown",
   "id": "b62555a1",
   "metadata": {},
   "source": [
    "### Using Python"
   ]
  },
  {
   "cell_type": "code",
   "execution_count": 10,
   "id": "33057e08",
   "metadata": {},
   "outputs": [
    {
     "data": {
      "text/plain": [
       "0    4.709530\n",
       "1    4.663439\n",
       "2    4.753590\n",
       "3    4.795791\n",
       "4    4.709530\n",
       "5    4.875197\n",
       "6    5.017280\n",
       "7    4.615121\n",
       "8    4.663439\n",
       "Name: price, dtype: float64"
      ]
     },
     "execution_count": 10,
     "metadata": {},
     "output_type": "execute_result"
    }
   ],
   "source": [
    "log_transformation = np.log1p(x) #log1p(x)=ln(1+x)\n",
    "log_transformation"
   ]
  },
  {
   "cell_type": "markdown",
   "id": "6c70494b",
   "metadata": {},
   "source": [
    "### Using sklearn module"
   ]
  },
  {
   "cell_type": "code",
   "execution_count": 11,
   "id": "2da885e3",
   "metadata": {},
   "outputs": [],
   "source": [
    "from sklearn.preprocessing import FunctionTransformer\n",
    "fc = FunctionTransformer(np.log1p)"
   ]
  },
  {
   "cell_type": "code",
   "execution_count": 12,
   "id": "a2708613",
   "metadata": {},
   "outputs": [
    {
     "data": {
      "text/html": [
       "<div>\n",
       "<style scoped>\n",
       "    .dataframe tbody tr th:only-of-type {\n",
       "        vertical-align: middle;\n",
       "    }\n",
       "\n",
       "    .dataframe tbody tr th {\n",
       "        vertical-align: top;\n",
       "    }\n",
       "\n",
       "    .dataframe thead th {\n",
       "        text-align: right;\n",
       "    }\n",
       "</style>\n",
       "<table border=\"1\" class=\"dataframe\">\n",
       "  <thead>\n",
       "    <tr style=\"text-align: right;\">\n",
       "      <th></th>\n",
       "      <th>price</th>\n",
       "    </tr>\n",
       "  </thead>\n",
       "  <tbody>\n",
       "    <tr>\n",
       "      <th>0</th>\n",
       "      <td>4.709530</td>\n",
       "    </tr>\n",
       "    <tr>\n",
       "      <th>1</th>\n",
       "      <td>4.663439</td>\n",
       "    </tr>\n",
       "    <tr>\n",
       "      <th>2</th>\n",
       "      <td>4.753590</td>\n",
       "    </tr>\n",
       "    <tr>\n",
       "      <th>3</th>\n",
       "      <td>4.795791</td>\n",
       "    </tr>\n",
       "    <tr>\n",
       "      <th>4</th>\n",
       "      <td>4.709530</td>\n",
       "    </tr>\n",
       "    <tr>\n",
       "      <th>5</th>\n",
       "      <td>4.875197</td>\n",
       "    </tr>\n",
       "    <tr>\n",
       "      <th>6</th>\n",
       "      <td>5.017280</td>\n",
       "    </tr>\n",
       "    <tr>\n",
       "      <th>7</th>\n",
       "      <td>4.615121</td>\n",
       "    </tr>\n",
       "    <tr>\n",
       "      <th>8</th>\n",
       "      <td>4.663439</td>\n",
       "    </tr>\n",
       "  </tbody>\n",
       "</table>\n",
       "</div>"
      ],
      "text/plain": [
       "      price\n",
       "0  4.709530\n",
       "1  4.663439\n",
       "2  4.753590\n",
       "3  4.795791\n",
       "4  4.709530\n",
       "5  4.875197\n",
       "6  5.017280\n",
       "7  4.615121\n",
       "8  4.663439"
      ]
     },
     "execution_count": 12,
     "metadata": {},
     "output_type": "execute_result"
    }
   ],
   "source": [
    "#fc = FunctionTransformer(np.log1p)\n",
    "fc.fit_transform(df[['price']])"
   ]
  },
  {
   "cell_type": "markdown",
   "id": "5b87833a",
   "metadata": {},
   "source": [
    "## <font color=\"purple\"><h3>4.Robust Scaling</h3></font>"
   ]
  },
  {
   "cell_type": "markdown",
   "id": "e62c1642",
   "metadata": {},
   "source": [
    "<img src=\"Robust Scaler.JPG\" width=\"700\" height=\"300\">"
   ]
  },
  {
   "cell_type": "markdown",
   "id": "a77faa99",
   "metadata": {},
   "source": [
    "### Using Python"
   ]
  },
  {
   "cell_type": "code",
   "execution_count": 13,
   "id": "47c95569",
   "metadata": {},
   "outputs": [
    {
     "data": {
      "text/plain": [
       "0    0.000000\n",
       "1   -0.333333\n",
       "2    0.333333\n",
       "3    0.666667\n",
       "4    0.000000\n",
       "5    1.333333\n",
       "6    2.666667\n",
       "7   -0.666667\n",
       "8   -0.333333\n",
       "Name: price, dtype: float64"
      ]
     },
     "execution_count": 13,
     "metadata": {},
     "output_type": "execute_result"
    }
   ],
   "source": [
    "robust_Scaling = (x-np.median(x))/(np.percentile(x,75) - np.percentile(x,25))\n",
    "robust_Scaling"
   ]
  },
  {
   "cell_type": "markdown",
   "id": "f4ef1bbe",
   "metadata": {},
   "source": [
    "### Using sklearn module"
   ]
  },
  {
   "cell_type": "code",
   "execution_count": 14,
   "id": "a0e9c917",
   "metadata": {},
   "outputs": [],
   "source": [
    "from sklearn.preprocessing import RobustScaler \n",
    "RoSc=RobustScaler()"
   ]
  },
  {
   "cell_type": "code",
   "execution_count": 15,
   "id": "e131128d",
   "metadata": {},
   "outputs": [
    {
     "data": {
      "text/plain": [
       "array([[ 0.        ],\n",
       "       [-0.33333333],\n",
       "       [ 0.33333333],\n",
       "       [ 0.66666667],\n",
       "       [ 0.        ],\n",
       "       [ 1.33333333],\n",
       "       [ 2.66666667],\n",
       "       [-0.66666667],\n",
       "       [-0.33333333]])"
      ]
     },
     "execution_count": 15,
     "metadata": {},
     "output_type": "execute_result"
    }
   ],
   "source": [
    "RoSc.fit_transform(df[['price']])"
   ]
  },
  {
   "cell_type": "markdown",
   "id": "10e148a9",
   "metadata": {},
   "source": [
    "## <font color=\"purple\"><h3> 5.Max Absolute Scaling </h3></font>"
   ]
  },
  {
   "cell_type": "markdown",
   "id": "7b6b3d7b",
   "metadata": {},
   "source": [
    "<img src=\"Max Absolute Scaler.JPG\" width=\"600\" height=\"250\">"
   ]
  },
  {
   "cell_type": "markdown",
   "id": "935693a7",
   "metadata": {},
   "source": [
    "### Using Python"
   ]
  },
  {
   "cell_type": "code",
   "execution_count": 16,
   "id": "2308548f",
   "metadata": {},
   "outputs": [
    {
     "data": {
      "text/plain": [
       "0    0.733333\n",
       "1    0.700000\n",
       "2    0.766667\n",
       "3    0.800000\n",
       "4    0.733333\n",
       "5    0.866667\n",
       "6    1.000000\n",
       "7    0.666667\n",
       "8    0.700000\n",
       "Name: price, dtype: float64"
      ]
     },
     "execution_count": 16,
     "metadata": {},
     "output_type": "execute_result"
    }
   ],
   "source": [
    "max_abs_scaling = x/max(x)\n",
    "max_abs_scaling"
   ]
  },
  {
   "cell_type": "markdown",
   "id": "a237b396",
   "metadata": {},
   "source": [
    "### Using sklearn module"
   ]
  },
  {
   "cell_type": "code",
   "execution_count": 17,
   "id": "fbf6dc53",
   "metadata": {},
   "outputs": [],
   "source": [
    "from sklearn.preprocessing import MaxAbsScaler\n",
    "mx = MaxAbsScaler()"
   ]
  },
  {
   "cell_type": "code",
   "execution_count": 18,
   "id": "1b147e9f",
   "metadata": {},
   "outputs": [
    {
     "data": {
      "text/plain": [
       "array([[0.73333333],\n",
       "       [0.7       ],\n",
       "       [0.76666667],\n",
       "       [0.8       ],\n",
       "       [0.73333333],\n",
       "       [0.86666667],\n",
       "       [1.        ],\n",
       "       [0.66666667],\n",
       "       [0.7       ]])"
      ]
     },
     "execution_count": 18,
     "metadata": {},
     "output_type": "execute_result"
    }
   ],
   "source": [
    "mx.fit_transform(df[['price']])"
   ]
  },
  {
   "cell_type": "markdown",
   "id": "c7087787",
   "metadata": {},
   "source": [
    "## <font color=\"green\">All Feature Transformations using Python Manually</font> "
   ]
  },
  {
   "cell_type": "code",
   "execution_count": 19,
   "id": "d6c4d450",
   "metadata": {},
   "outputs": [
    {
     "data": {
      "text/html": [
       "<div>\n",
       "<style scoped>\n",
       "    .dataframe tbody tr th:only-of-type {\n",
       "        vertical-align: middle;\n",
       "    }\n",
       "\n",
       "    .dataframe tbody tr th {\n",
       "        vertical-align: top;\n",
       "    }\n",
       "\n",
       "    .dataframe thead th {\n",
       "        text-align: right;\n",
       "    }\n",
       "</style>\n",
       "<table border=\"1\" class=\"dataframe\">\n",
       "  <thead>\n",
       "    <tr style=\"text-align: right;\">\n",
       "      <th></th>\n",
       "      <th>price</th>\n",
       "      <th>Normalization(py)</th>\n",
       "      <th>Standarization(py)</th>\n",
       "      <th>Log_trans(py)</th>\n",
       "      <th>Robust_Scaling(py)</th>\n",
       "      <th>Max_Abs_Scaling(py)</th>\n",
       "    </tr>\n",
       "  </thead>\n",
       "  <tbody>\n",
       "    <tr>\n",
       "      <th>0</th>\n",
       "      <td>110</td>\n",
       "      <td>0.2</td>\n",
       "      <td>-0.416356</td>\n",
       "      <td>4.709530</td>\n",
       "      <td>0.000000</td>\n",
       "      <td>0.733333</td>\n",
       "    </tr>\n",
       "    <tr>\n",
       "      <th>1</th>\n",
       "      <td>105</td>\n",
       "      <td>0.1</td>\n",
       "      <td>-0.757011</td>\n",
       "      <td>4.663439</td>\n",
       "      <td>-0.333333</td>\n",
       "      <td>0.700000</td>\n",
       "    </tr>\n",
       "    <tr>\n",
       "      <th>2</th>\n",
       "      <td>115</td>\n",
       "      <td>0.3</td>\n",
       "      <td>-0.075701</td>\n",
       "      <td>4.753590</td>\n",
       "      <td>0.333333</td>\n",
       "      <td>0.766667</td>\n",
       "    </tr>\n",
       "    <tr>\n",
       "      <th>3</th>\n",
       "      <td>120</td>\n",
       "      <td>0.4</td>\n",
       "      <td>0.264954</td>\n",
       "      <td>4.795791</td>\n",
       "      <td>0.666667</td>\n",
       "      <td>0.800000</td>\n",
       "    </tr>\n",
       "    <tr>\n",
       "      <th>4</th>\n",
       "      <td>110</td>\n",
       "      <td>0.2</td>\n",
       "      <td>-0.416356</td>\n",
       "      <td>4.709530</td>\n",
       "      <td>0.000000</td>\n",
       "      <td>0.733333</td>\n",
       "    </tr>\n",
       "    <tr>\n",
       "      <th>5</th>\n",
       "      <td>130</td>\n",
       "      <td>0.6</td>\n",
       "      <td>0.946264</td>\n",
       "      <td>4.875197</td>\n",
       "      <td>1.333333</td>\n",
       "      <td>0.866667</td>\n",
       "    </tr>\n",
       "    <tr>\n",
       "      <th>6</th>\n",
       "      <td>150</td>\n",
       "      <td>1.0</td>\n",
       "      <td>2.308884</td>\n",
       "      <td>5.017280</td>\n",
       "      <td>2.666667</td>\n",
       "      <td>1.000000</td>\n",
       "    </tr>\n",
       "    <tr>\n",
       "      <th>7</th>\n",
       "      <td>100</td>\n",
       "      <td>0.0</td>\n",
       "      <td>-1.097666</td>\n",
       "      <td>4.615121</td>\n",
       "      <td>-0.666667</td>\n",
       "      <td>0.666667</td>\n",
       "    </tr>\n",
       "    <tr>\n",
       "      <th>8</th>\n",
       "      <td>105</td>\n",
       "      <td>0.1</td>\n",
       "      <td>-0.757011</td>\n",
       "      <td>4.663439</td>\n",
       "      <td>-0.333333</td>\n",
       "      <td>0.700000</td>\n",
       "    </tr>\n",
       "  </tbody>\n",
       "</table>\n",
       "</div>"
      ],
      "text/plain": [
       "   price  Normalization(py)  Standarization(py)  Log_trans(py)  \\\n",
       "0    110                0.2           -0.416356       4.709530   \n",
       "1    105                0.1           -0.757011       4.663439   \n",
       "2    115                0.3           -0.075701       4.753590   \n",
       "3    120                0.4            0.264954       4.795791   \n",
       "4    110                0.2           -0.416356       4.709530   \n",
       "5    130                0.6            0.946264       4.875197   \n",
       "6    150                1.0            2.308884       5.017280   \n",
       "7    100                0.0           -1.097666       4.615121   \n",
       "8    105                0.1           -0.757011       4.663439   \n",
       "\n",
       "   Robust_Scaling(py)  Max_Abs_Scaling(py)  \n",
       "0            0.000000             0.733333  \n",
       "1           -0.333333             0.700000  \n",
       "2            0.333333             0.766667  \n",
       "3            0.666667             0.800000  \n",
       "4            0.000000             0.733333  \n",
       "5            1.333333             0.866667  \n",
       "6            2.666667             1.000000  \n",
       "7           -0.666667             0.666667  \n",
       "8           -0.333333             0.700000  "
      ]
     },
     "execution_count": 19,
     "metadata": {},
     "output_type": "execute_result"
    }
   ],
   "source": [
    "df_python = df.copy()\n",
    "\n",
    "df_python['Normalization(py)'] = (x-min(x))/(max(x)-min(x))\n",
    "df_python['Standarization(py)'] = (x-x.mean())/x.std(ddof=0)\n",
    "df_python['Log_trans(py)'] = np.log1p(x)\n",
    "df_python['Robust_Scaling(py)'] = (x-np.median(x))/(np.percentile(x,75) - np.percentile(x,25))\n",
    "df_python['Max_Abs_Scaling(py)'] = x/max(x)\n",
    "\n",
    "df_python"
   ]
  },
  {
   "cell_type": "markdown",
   "id": "7296c158",
   "metadata": {},
   "source": [
    "## <font color=\"green\">All Feature Transformations using Scikit-Learn Module</font>"
   ]
  },
  {
   "cell_type": "code",
   "execution_count": 20,
   "id": "881f8dbb",
   "metadata": {},
   "outputs": [
    {
     "data": {
      "text/html": [
       "<div>\n",
       "<style scoped>\n",
       "    .dataframe tbody tr th:only-of-type {\n",
       "        vertical-align: middle;\n",
       "    }\n",
       "\n",
       "    .dataframe tbody tr th {\n",
       "        vertical-align: top;\n",
       "    }\n",
       "\n",
       "    .dataframe thead th {\n",
       "        text-align: right;\n",
       "    }\n",
       "</style>\n",
       "<table border=\"1\" class=\"dataframe\">\n",
       "  <thead>\n",
       "    <tr style=\"text-align: right;\">\n",
       "      <th></th>\n",
       "      <th>price</th>\n",
       "      <th>Normalization(sk)</th>\n",
       "      <th>Standarization(sk)</th>\n",
       "      <th>Log_trans(sk)</th>\n",
       "      <th>Ronust_Scaling(sk)</th>\n",
       "      <th>Max_Abs(sk)</th>\n",
       "    </tr>\n",
       "  </thead>\n",
       "  <tbody>\n",
       "    <tr>\n",
       "      <th>0</th>\n",
       "      <td>110</td>\n",
       "      <td>0.2</td>\n",
       "      <td>-0.416356</td>\n",
       "      <td>4.709530</td>\n",
       "      <td>0.000000</td>\n",
       "      <td>0.733333</td>\n",
       "    </tr>\n",
       "    <tr>\n",
       "      <th>1</th>\n",
       "      <td>105</td>\n",
       "      <td>0.1</td>\n",
       "      <td>-0.757011</td>\n",
       "      <td>4.663439</td>\n",
       "      <td>-0.333333</td>\n",
       "      <td>0.700000</td>\n",
       "    </tr>\n",
       "    <tr>\n",
       "      <th>2</th>\n",
       "      <td>115</td>\n",
       "      <td>0.3</td>\n",
       "      <td>-0.075701</td>\n",
       "      <td>4.753590</td>\n",
       "      <td>0.333333</td>\n",
       "      <td>0.766667</td>\n",
       "    </tr>\n",
       "    <tr>\n",
       "      <th>3</th>\n",
       "      <td>120</td>\n",
       "      <td>0.4</td>\n",
       "      <td>0.264954</td>\n",
       "      <td>4.795791</td>\n",
       "      <td>0.666667</td>\n",
       "      <td>0.800000</td>\n",
       "    </tr>\n",
       "    <tr>\n",
       "      <th>4</th>\n",
       "      <td>110</td>\n",
       "      <td>0.2</td>\n",
       "      <td>-0.416356</td>\n",
       "      <td>4.709530</td>\n",
       "      <td>0.000000</td>\n",
       "      <td>0.733333</td>\n",
       "    </tr>\n",
       "    <tr>\n",
       "      <th>5</th>\n",
       "      <td>130</td>\n",
       "      <td>0.6</td>\n",
       "      <td>0.946264</td>\n",
       "      <td>4.875197</td>\n",
       "      <td>1.333333</td>\n",
       "      <td>0.866667</td>\n",
       "    </tr>\n",
       "    <tr>\n",
       "      <th>6</th>\n",
       "      <td>150</td>\n",
       "      <td>1.0</td>\n",
       "      <td>2.308884</td>\n",
       "      <td>5.017280</td>\n",
       "      <td>2.666667</td>\n",
       "      <td>1.000000</td>\n",
       "    </tr>\n",
       "    <tr>\n",
       "      <th>7</th>\n",
       "      <td>100</td>\n",
       "      <td>0.0</td>\n",
       "      <td>-1.097666</td>\n",
       "      <td>4.615121</td>\n",
       "      <td>-0.666667</td>\n",
       "      <td>0.666667</td>\n",
       "    </tr>\n",
       "    <tr>\n",
       "      <th>8</th>\n",
       "      <td>105</td>\n",
       "      <td>0.1</td>\n",
       "      <td>-0.757011</td>\n",
       "      <td>4.663439</td>\n",
       "      <td>-0.333333</td>\n",
       "      <td>0.700000</td>\n",
       "    </tr>\n",
       "  </tbody>\n",
       "</table>\n",
       "</div>"
      ],
      "text/plain": [
       "   price  Normalization(sk)  Standarization(sk)  Log_trans(sk)  \\\n",
       "0    110                0.2           -0.416356       4.709530   \n",
       "1    105                0.1           -0.757011       4.663439   \n",
       "2    115                0.3           -0.075701       4.753590   \n",
       "3    120                0.4            0.264954       4.795791   \n",
       "4    110                0.2           -0.416356       4.709530   \n",
       "5    130                0.6            0.946264       4.875197   \n",
       "6    150                1.0            2.308884       5.017280   \n",
       "7    100                0.0           -1.097666       4.615121   \n",
       "8    105                0.1           -0.757011       4.663439   \n",
       "\n",
       "   Ronust_Scaling(sk)  Max_Abs(sk)  \n",
       "0            0.000000     0.733333  \n",
       "1           -0.333333     0.700000  \n",
       "2            0.333333     0.766667  \n",
       "3            0.666667     0.800000  \n",
       "4            0.000000     0.733333  \n",
       "5            1.333333     0.866667  \n",
       "6            2.666667     1.000000  \n",
       "7           -0.666667     0.666667  \n",
       "8           -0.333333     0.700000  "
      ]
     },
     "execution_count": 20,
     "metadata": {},
     "output_type": "execute_result"
    }
   ],
   "source": [
    "df_sklearn = df.copy()\n",
    "\n",
    "df_sklearn['Normalization(sk)'] = mms.fit_transform(df[['price']])\n",
    "df_sklearn['Standarization(sk)'] = ss.fit_transform(df[['price']])\n",
    "df_sklearn['Log_trans(sk)'] = fc.fit_transform(df[['price']])\n",
    "df_sklearn['Ronust_Scaling(sk)'] = RoSc.fit_transform(df[['price']])\n",
    "df_sklearn['Max_Abs(sk)'] = mx.fit_transform(df[['price']])\n",
    "\n",
    "df_sklearn"
   ]
  }
 ],
 "metadata": {
  "kernelspec": {
   "display_name": "Python 3 (ipykernel)",
   "language": "python",
   "name": "python3"
  },
  "language_info": {
   "codemirror_mode": {
    "name": "ipython",
    "version": 3
   },
   "file_extension": ".py",
   "mimetype": "text/x-python",
   "name": "python",
   "nbconvert_exporter": "python",
   "pygments_lexer": "ipython3",
   "version": "3.10.9"
  }
 },
 "nbformat": 4,
 "nbformat_minor": 5
}
